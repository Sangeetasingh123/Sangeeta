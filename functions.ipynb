{
  "nbformat": 4,
  "nbformat_minor": 0,
  "metadata": {
    "colab": {
      "provenance": [],
      "authorship_tag": "ABX9TyPXLBQI0xb9ngXfIHF/X27X",
      "include_colab_link": true
    },
    "kernelspec": {
      "name": "python3",
      "display_name": "Python 3"
    },
    "language_info": {
      "name": "python"
    }
  },
  "cells": [
    {
      "cell_type": "markdown",
      "metadata": {
        "id": "view-in-github",
        "colab_type": "text"
      },
      "source": [
        "<a href=\"https://colab.research.google.com/github/Sangeetasingh123/Sangeeta/blob/main/functions.ipynb\" target=\"_parent\"><img src=\"https://colab.research.google.com/assets/colab-badge.svg\" alt=\"Open In Colab\"/></a>"
      ]
    },
    {
      "cell_type": "code",
      "execution_count": null,
      "metadata": {
        "colab": {
          "base_uri": "https://localhost:8080/"
        },
        "id": "ocBPYTx2FhPW",
        "outputId": "14105050-694e-4afb-ab41-20eb14ba16c7"
      },
      "outputs": [
        {
          "output_type": "stream",
          "name": "stdout",
          "text": [
            "['I', 'c', 't', 'e', 'w', 'm', 'y', 'c', 'd', 'k', 'w', 'y', 't', 't', 's', 'l', 'm', 'c', 'y', 'i', 'a', 'n', 'i', 'd']\n"
          ]
        }
      ],
      "source": [
        "heisenberg_quote = \"It ceases to exist without me.No, you clearly don't know who you're talking to, so let me clue you in.I am not in danger\"\n",
        "\n",
        "\n",
        "# Using the list comprehension, we can do the above task in this way\n",
        "words_by_walter = heisenberg_quote.split(' ')\n",
        "\n",
        "first_letters = [word[0] for word in words_by_walter]\n",
        "print(first_letters)"
      ]
    },
    {
      "cell_type": "markdown",
      "source": [
        "# New Section"
      ],
      "metadata": {
        "id": "DOSBxo3xv43p"
      }
    },
    {
      "cell_type": "markdown",
      "source": [
        "# New Section"
      ],
      "metadata": {
        "id": "06Tj2Ec9v6Yt"
      }
    },
    {
      "cell_type": "code",
      "source": [
        "def factorial(num):\n",
        "  '''\n",
        "  Function for calculating factorial of a number\n",
        "  '''\n",
        "  result=1\n",
        "  # Step 1 : Write an if statement to print a message if the input number is negative\n",
        "  if num < 0:\n",
        "    print(\"Factorial is not defined for negative numbers.\")\n",
        "\n",
        "  # Step 2 : Write the elif statement to calculate the factorial\n",
        "  elif num > 0:\n",
        "    for i in range(1, num+1):\n",
        "      result = result * i\n",
        "    print(f\"The factorial of {num} is {result}.\")\n",
        "\n",
        "  # Step 3 : Write the else statement to take care of the input 0\n",
        "  else:\n",
        "    result=1\n",
        "    print('factorial of 0 is ',result)\n",
        "\n",
        "  # Step 4 : Return the output variable result\n",
        "\n",
        "\n",
        "factorial(5)\n"
      ],
      "metadata": {
        "colab": {
          "base_uri": "https://localhost:8080/"
        },
        "id": "IkpvV6oMLtkd",
        "outputId": "179bc6f8-7076-4af6-b1c3-b50816cebd13"
      },
      "execution_count": null,
      "outputs": [
        {
          "output_type": "stream",
          "name": "stdout",
          "text": [
            "The factorial of 5 is 120.\n"
          ]
        }
      ]
    },
    {
      "cell_type": "code",
      "source": [
        "# Now let us define a list of numbers for which we want to calculate the factorials\n",
        "list_of_numbers = [3, 5, 8, 12, 4, 6]"
      ],
      "metadata": {
        "id": "0vrUPccnNwxg"
      },
      "execution_count": null,
      "outputs": []
    },
    {
      "cell_type": "code",
      "source": [
        "# We can write a list comprehension for the same task\n",
        "factorial_list = [factorial(number) for number in list_of_numbers if number%2!=0]\n",
        "print(factorial_list)"
      ],
      "metadata": {
        "colab": {
          "base_uri": "https://localhost:8080/"
        },
        "id": "2KF2zNT9OFGZ",
        "outputId": "2086a5a2-ab32-4603-f663-7ea6b60098bf"
      },
      "execution_count": null,
      "outputs": [
        {
          "output_type": "stream",
          "name": "stdout",
          "text": [
            "The factorial of 3 is 6.\n",
            "The factorial of 5 is 120.\n",
            "[None, None]\n"
          ]
        }
      ]
    },
    {
      "cell_type": "code",
      "source": [
        "def check_even_or_odd(num):\n",
        "  '''\n",
        "  This function checks whether a number is odd or even and then returns the corresponding string\n",
        "  '''\n",
        "  print(f'Given number is {num}')\n",
        "\n",
        "  # Step 1 : Check if the number is even. If it is return 'even'\n",
        "  if num%2 == 0:\n",
        "    return 'even'\n",
        "\n",
        "  # Step 2 : Else just return 'odd'\n",
        "\n",
        "  return 'odd'\n",
        "\n",
        "is_even_odd = check_even_or_odd(10)\n",
        "print(is_even_odd)"
      ],
      "metadata": {
        "colab": {
          "base_uri": "https://localhost:8080/"
        },
        "id": "avATiHm2n9NW",
        "outputId": "0c961fcb-a580-4244-9e8d-42eba08a550b"
      },
      "execution_count": null,
      "outputs": [
        {
          "output_type": "stream",
          "name": "stdout",
          "text": [
            "Given number is 10\n",
            "even\n"
          ]
        }
      ]
    },
    {
      "cell_type": "code",
      "source": [
        "heights = [172, 175, 170, 200]"
      ],
      "metadata": {
        "id": "dWz3WB8yy8jT"
      },
      "execution_count": null,
      "outputs": []
    },
    {
      "cell_type": "code",
      "source": [
        "def experiment():\n",
        "  global x\n",
        "  x = 50\n",
        "\n",
        "  return x\n",
        "\n",
        "x = 25\n",
        "\n",
        "experiment()"
      ],
      "metadata": {
        "colab": {
          "base_uri": "https://localhost:8080/"
        },
        "id": "1uOjSPVsuRWD",
        "outputId": "d9de04e7-62eb-4187-adce-84625e6b8e4f"
      },
      "execution_count": null,
      "outputs": [
        {
          "output_type": "execute_result",
          "data": {
            "text/plain": [
              "50"
            ]
          },
          "metadata": {},
          "execution_count": 5
        }
      ]
    },
    {
      "cell_type": "code",
      "source": [
        "experiment()"
      ],
      "metadata": {
        "colab": {
          "base_uri": "https://localhost:8080/"
        },
        "id": "NueiXxSrusqG",
        "outputId": "1cf6fd4b-0ebb-45e3-cb2b-5d8dc7485f14"
      },
      "execution_count": null,
      "outputs": [
        {
          "output_type": "execute_result",
          "data": {
            "text/plain": [
              "50"
            ]
          },
          "metadata": {},
          "execution_count": 6
        }
      ]
    },
    {
      "cell_type": "code",
      "source": [
        "x"
      ],
      "metadata": {
        "colab": {
          "base_uri": "https://localhost:8080/"
        },
        "id": "bQeZxEJPuxTa",
        "outputId": "67684af1-3980-41da-c786-f00f36de37ca"
      },
      "execution_count": null,
      "outputs": [
        {
          "output_type": "execute_result",
          "data": {
            "text/plain": [
              "50"
            ]
          },
          "metadata": {},
          "execution_count": 7
        }
      ]
    },
    {
      "cell_type": "code",
      "source": [
        "def new_experiment():\n",
        "\n",
        "  x = 50\n",
        "  return x\n",
        "\n",
        "x = 40\n",
        "\n",
        "x"
      ],
      "metadata": {
        "colab": {
          "base_uri": "https://localhost:8080/"
        },
        "id": "k6aNMGl3uzQP",
        "outputId": "a1c0fae4-afc3-4c19-e2d4-69cfb26abdc2"
      },
      "execution_count": null,
      "outputs": [
        {
          "output_type": "execute_result",
          "data": {
            "text/plain": [
              "40"
            ]
          },
          "metadata": {},
          "execution_count": 8
        }
      ]
    },
    {
      "cell_type": "code",
      "source": [
        "new_experiment()"
      ],
      "metadata": {
        "id": "R9X29SohvJjl"
      },
      "execution_count": null,
      "outputs": []
    }
  ]
}