{
  "nbformat": 4,
  "nbformat_minor": 0,
  "metadata": {
    "colab": {
      "provenance": [],
      "authorship_tag": "ABX9TyNUeB3wDiAQoUqW519LOgY2",
      "include_colab_link": true
    },
    "kernelspec": {
      "name": "python3",
      "display_name": "Python 3"
    },
    "language_info": {
      "name": "python"
    }
  },
  "cells": [
    {
      "cell_type": "markdown",
      "metadata": {
        "id": "view-in-github",
        "colab_type": "text"
      },
      "source": [
        "<a href=\"https://colab.research.google.com/github/Sangeetasingh123/Sangeeta/blob/main/oops%20exception.ipynb\" target=\"_parent\"><img src=\"https://colab.research.google.com/assets/colab-badge.svg\" alt=\"Open In Colab\"/></a>"
      ]
    },
    {
      "cell_type": "code",
      "execution_count": 1,
      "metadata": {
        "colab": {
          "base_uri": "https://localhost:8080/"
        },
        "id": "diaZ4umNwTwW",
        "outputId": "b68dc294-6add-4a25-f826-9bde3254a796"
      },
      "outputs": [
        {
          "output_type": "execute_result",
          "data": {
            "text/plain": [
              "[]"
            ]
          },
          "metadata": {},
          "execution_count": 1
        }
      ],
      "source": [
        "empty_list = []\n",
        "\n",
        "empty_list"
      ]
    },
    {
      "cell_type": "code",
      "source": [
        "another_empty_list = list()\n",
        "\n",
        "another_empty_list"
      ],
      "metadata": {
        "colab": {
          "base_uri": "https://localhost:8080/"
        },
        "id": "w3j9EYpiwkWQ",
        "outputId": "73470086-3638-4706-f2ce-b55552a031d9"
      },
      "execution_count": 2,
      "outputs": [
        {
          "output_type": "execute_result",
          "data": {
            "text/plain": [
              "[]"
            ]
          },
          "metadata": {},
          "execution_count": 2
        }
      ]
    },
    {
      "cell_type": "code",
      "source": [
        "another_empty_list.append(2)\n",
        "\n",
        "another_empty_list"
      ],
      "metadata": {
        "colab": {
          "base_uri": "https://localhost:8080/"
        },
        "id": "0c60GVKNwuVT",
        "outputId": "cc73057e-dd8c-4f30-8199-ae35e709aafd"
      },
      "execution_count": 3,
      "outputs": [
        {
          "output_type": "execute_result",
          "data": {
            "text/plain": [
              "[2]"
            ]
          },
          "metadata": {},
          "execution_count": 3
        }
      ]
    },
    {
      "cell_type": "code",
      "source": [
        "another_empty_list.append(1)\n",
        "another_empty_list.append(3)\n",
        "\n",
        "another_empty_list"
      ],
      "metadata": {
        "colab": {
          "base_uri": "https://localhost:8080/"
        },
        "id": "7qj0MdLVw8Lb",
        "outputId": "2a34d5fd-0b7b-4bcd-f0a0-bb3c35d70b81"
      },
      "execution_count": 4,
      "outputs": [
        {
          "output_type": "execute_result",
          "data": {
            "text/plain": [
              "[2, 1, 3]"
            ]
          },
          "metadata": {},
          "execution_count": 4
        }
      ]
    },
    {
      "cell_type": "code",
      "source": [
        "another_empty_list.index(3)"
      ],
      "metadata": {
        "colab": {
          "base_uri": "https://localhost:8080/"
        },
        "id": "w6z_DLtcxLS7",
        "outputId": "7d76d278-cfe7-4c49-979e-c6a01b26fe39"
      },
      "execution_count": 5,
      "outputs": [
        {
          "output_type": "execute_result",
          "data": {
            "text/plain": [
              "2"
            ]
          },
          "metadata": {},
          "execution_count": 5
        }
      ]
    },
    {
      "cell_type": "code",
      "source": [
        "the_sixth_sense = 6\n",
        "print(type(the_sixth_sense))"
      ],
      "metadata": {
        "colab": {
          "base_uri": "https://localhost:8080/"
        },
        "id": "Dbiy4mvyxRZR",
        "outputId": "47a574c0-3bc6-479d-e717-88b7ede978c0"
      },
      "execution_count": 6,
      "outputs": [
        {
          "output_type": "stream",
          "name": "stdout",
          "text": [
            "<class 'int'>\n"
          ]
        }
      ]
    },
    {
      "cell_type": "code",
      "source": [
        "two_and_a_half_men = 2.5\n",
        "print(type(two_and_a_half_men))"
      ],
      "metadata": {
        "colab": {
          "base_uri": "https://localhost:8080/"
        },
        "id": "CNQlFm87xa7A",
        "outputId": "d4d61ae5-ec33-440a-cebc-0066223759cc"
      },
      "execution_count": 8,
      "outputs": [
        {
          "output_type": "stream",
          "name": "stdout",
          "text": [
            "<class 'float'>\n"
          ]
        }
      ]
    },
    {
      "cell_type": "code",
      "source": [
        "schindlers_list = list()\n",
        "print(type(schindlers_list))"
      ],
      "metadata": {
        "colab": {
          "base_uri": "https://localhost:8080/"
        },
        "id": "HxcW5g1Zxr5d",
        "outputId": "72410438-0bc7-4b98-856d-fb4753d84248"
      },
      "execution_count": 9,
      "outputs": [
        {
          "output_type": "stream",
          "name": "stdout",
          "text": [
            "<class 'list'>\n"
          ]
        }
      ]
    },
    {
      "cell_type": "code",
      "source": [
        "another_list = list()\n",
        "\n",
        "tharoor = {'farrago':'a confused mixture'}\n",
        "print(type(tharoor))"
      ],
      "metadata": {
        "colab": {
          "base_uri": "https://localhost:8080/"
        },
        "id": "eXUDiXP3ySVq",
        "outputId": "e71a7981-697e-4234-8866-669c259a54d4"
      },
      "execution_count": 11,
      "outputs": [
        {
          "output_type": "stream",
          "name": "stdout",
          "text": [
            "<class 'dict'>\n"
          ]
        }
      ]
    },
    {
      "cell_type": "code",
      "source": [
        "# Create a new object type called FirstClass\n",
        "class FirstClass:\n",
        "    pass\n",
        "\n",
        "# Instance of FirstClass\n",
        "x = FirstClass\n",
        "print(type(x))"
      ],
      "metadata": {
        "colab": {
          "base_uri": "https://localhost:8080/"
        },
        "id": "8dLotxWrzUmJ",
        "outputId": "f6df9770-fd20-4927-e1e5-8eaceb027852"
      },
      "execution_count": 14,
      "outputs": [
        {
          "output_type": "stream",
          "name": "stdout",
          "text": [
            "<class 'type'>\n"
          ]
        }
      ]
    },
    {
      "cell_type": "code",
      "source": [
        "y = FirstClass()\n",
        "print(type(y))\n"
      ],
      "metadata": {
        "colab": {
          "base_uri": "https://localhost:8080/"
        },
        "id": "wNlGDZOS02Dg",
        "outputId": "a6f93f6e-b106-4548-c51a-9a8825cffec4"
      },
      "execution_count": 15,
      "outputs": [
        {
          "output_type": "stream",
          "name": "stdout",
          "text": [
            "<class '__main__.FirstClass'>\n"
          ]
        }
      ]
    },
    {
      "cell_type": "code",
      "source": [
        "class Dog:\n",
        "\n",
        "  def __init__(self, breed, name):\n",
        "    self.breed_attribute = breed\n",
        "    self.name_attribute = name\n",
        "\n",
        "sam_object = Dog(breed='Lab',name = 'sam')\n",
        "frank_object = Dog(breed= 'Huskie', name = 'Frank')\n",
        "\n",
        "sam_object.breed_attribute"
      ],
      "metadata": {
        "colab": {
          "base_uri": "https://localhost:8080/",
          "height": 36
        },
        "id": "7CUn3EdK1E8Z",
        "outputId": "6bd98d3f-1234-44b8-9eb4-e1009f04e906"
      },
      "execution_count": 17,
      "outputs": [
        {
          "output_type": "execute_result",
          "data": {
            "text/plain": [
              "'Lab'"
            ],
            "application/vnd.google.colaboratory.intrinsic+json": {
              "type": "string"
            }
          },
          "metadata": {},
          "execution_count": 17
        }
      ]
    },
    {
      "cell_type": "code",
      "source": [
        "sam_object.name_attribute"
      ],
      "metadata": {
        "colab": {
          "base_uri": "https://localhost:8080/",
          "height": 36
        },
        "id": "Ewx-gxYW24pM",
        "outputId": "64b9934f-082c-486b-e92b-653d74bd767e"
      },
      "execution_count": 18,
      "outputs": [
        {
          "output_type": "execute_result",
          "data": {
            "text/plain": [
              "'sam'"
            ],
            "application/vnd.google.colaboratory.intrinsic+json": {
              "type": "string"
            }
          },
          "metadata": {},
          "execution_count": 18
        }
      ]
    },
    {
      "cell_type": "code",
      "source": [
        "frank_object.name_attribute"
      ],
      "metadata": {
        "colab": {
          "base_uri": "https://localhost:8080/",
          "height": 36
        },
        "id": "CD2E1e-E3I9I",
        "outputId": "9b89aafe-6682-4645-aba8-b7e3a415e2ab"
      },
      "execution_count": 19,
      "outputs": [
        {
          "output_type": "execute_result",
          "data": {
            "text/plain": [
              "'Frank'"
            ],
            "application/vnd.google.colaboratory.intrinsic+json": {
              "type": "string"
            }
          },
          "metadata": {},
          "execution_count": 19
        }
      ]
    },
    {
      "cell_type": "code",
      "source": [
        "class Circle:\n",
        "\n",
        "  def __init__(self, radius=1):\n",
        "    self.radius = radius\n",
        "    self.area = 3.14 * radius * radius\n",
        "\n",
        "  def setRadius(self, new_radius):\n",
        "    self.radius = new_radius\n",
        "    self.area = 3.14 * new_radius * new_radius\n",
        "\n",
        "  def getCircumference(self):\n",
        "    return 2 * 3.14 * self.radius\n",
        "\n",
        "c = Circle(2)\n",
        "\n",
        "\n",
        "c.area"
      ],
      "metadata": {
        "colab": {
          "base_uri": "https://localhost:8080/"
        },
        "id": "pZt0sRQL3P7_",
        "outputId": "0a04bcb0-6b15-44ea-c11b-4c39816ef104"
      },
      "execution_count": 21,
      "outputs": [
        {
          "output_type": "execute_result",
          "data": {
            "text/plain": [
              "12.56"
            ]
          },
          "metadata": {},
          "execution_count": 21
        }
      ]
    },
    {
      "cell_type": "code",
      "source": [
        "c .setRadius(10)\n",
        "\n",
        "\n",
        "c.getCircumference()"
      ],
      "metadata": {
        "colab": {
          "base_uri": "https://localhost:8080/"
        },
        "id": "qcdS0Rbf5S44",
        "outputId": "d129664a-ce1f-42dc-bfe9-1d3f371dbbfd"
      },
      "execution_count": 22,
      "outputs": [
        {
          "output_type": "execute_result",
          "data": {
            "text/plain": [
              "62.800000000000004"
            ]
          },
          "metadata": {},
          "execution_count": 22
        }
      ]
    },
    {
      "cell_type": "code",
      "source": [
        "print('Radius is:', c.radius)\n",
        "print('Area is:', c.area)\n",
        "print('Circumference is:', c.getCircumference())"
      ],
      "metadata": {
        "colab": {
          "base_uri": "https://localhost:8080/"
        },
        "id": "Qsuf8wnO65wD",
        "outputId": "d778a3a4-fd40-48ae-b155-66c0b7d92fa3"
      },
      "execution_count": 23,
      "outputs": [
        {
          "output_type": "stream",
          "name": "stdout",
          "text": [
            "Radius is: 10\n",
            "Area is: 314.0\n",
            "Circumference is: 62.800000000000004\n"
          ]
        }
      ]
    },
    {
      "cell_type": "code",
      "source": [
        "c.setRadius(4)\n",
        "\n",
        "print('Radius is:', c.radius)\n",
        "print('Area is:', c.area)\n",
        "print('Circumference is:', c.getCircumference())"
      ],
      "metadata": {
        "colab": {
          "base_uri": "https://localhost:8080/"
        },
        "id": "z-nJpWLU7YaS",
        "outputId": "2e9353d6-da8a-4384-e1fb-3bc3d99e72eb"
      },
      "execution_count": 24,
      "outputs": [
        {
          "output_type": "stream",
          "name": "stdout",
          "text": [
            "Radius is: 4\n",
            "Area is: 50.24\n",
            "Circumference is: 25.12\n"
          ]
        }
      ]
    },
    {
      "cell_type": "code",
      "source": [
        "try:\n",
        "\n",
        "    print(\"Good to go!\")\n",
        "    print('a',fwdfdwafwf)\n",
        "    print('b')\n",
        "except:\n",
        "    # This will check for any exception and then execute this print statement\n",
        "    print(\"Oops!\")\n",
        "    print('c')\n",
        "    print('d')\n",
        "else:\n",
        "    print(\"No errors encountered!\")\n",
        "    print('e')\n",
        "    print('f')"
      ],
      "metadata": {
        "colab": {
          "base_uri": "https://localhost:8080/"
        },
        "id": "3ev5NSI9yNRu",
        "outputId": "e16fba26-1c04-41ec-bd5e-2e1318b763d8"
      },
      "execution_count": 9,
      "outputs": [
        {
          "output_type": "stream",
          "name": "stdout",
          "text": [
            "Good to go!\n",
            "Oops!\n",
            "c\n",
            "d\n"
          ]
        }
      ]
    },
    {
      "cell_type": "code",
      "source": [
        "try:\n",
        "    print('abc')\n",
        "except:\n",
        "    print('sddj string is not present')"
      ],
      "metadata": {
        "colab": {
          "base_uri": "https://localhost:8080/"
        },
        "id": "AuB3l3j-zfru",
        "outputId": "5fcb1f58-a269-4689-b50c-838a03f899ef"
      },
      "execution_count": 10,
      "outputs": [
        {
          "output_type": "stream",
          "name": "stdout",
          "text": [
            "abc\n"
          ]
        }
      ]
    }
  ]
}