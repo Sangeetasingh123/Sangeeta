{
  "nbformat": 4,
  "nbformat_minor": 0,
  "metadata": {
    "colab": {
      "provenance": [],
      "authorship_tag": "ABX9TyNO9UnDpCK35mViohcbiWh9",
      "include_colab_link": true
    },
    "kernelspec": {
      "name": "python3",
      "display_name": "Python 3"
    },
    "language_info": {
      "name": "python"
    }
  },
  "cells": [
    {
      "cell_type": "markdown",
      "metadata": {
        "id": "view-in-github",
        "colab_type": "text"
      },
      "source": [
        "<a href=\"https://colab.research.google.com/github/Sangeetasingh123/Sangeeta/blob/main/Tuples%2CSets%20and%20Dictionaries.ipynb\" target=\"_parent\"><img src=\"https://colab.research.google.com/assets/colab-badge.svg\" alt=\"Open In Colab\"/></a>"
      ]
    },
    {
      "cell_type": "code",
      "execution_count": 3,
      "metadata": {
        "colab": {
          "base_uri": "https://localhost:8080/"
        },
        "id": "U0jBf33wqxte",
        "outputId": "923c0a09-29a8-475c-b898-f35b311efea1"
      },
      "outputs": [
        {
          "output_type": "stream",
          "name": "stdout",
          "text": [
            "(1, 'a', 3)\n"
          ]
        }
      ],
      "source": [
        "# Create a tuple\n",
        "my_tuple = (1, 'a', 3)\n",
        "\n",
        "print(my_tuple)"
      ]
    },
    {
      "cell_type": "code",
      "source": [
        "type(my_tuple)"
      ],
      "metadata": {
        "colab": {
          "base_uri": "https://localhost:8080/"
        },
        "id": "njNFI1vZrwdN",
        "outputId": "588f70ec-cb8b-4972-cbcd-b73b57641896"
      },
      "execution_count": 4,
      "outputs": [
        {
          "output_type": "execute_result",
          "data": {
            "text/plain": [
              "tuple"
            ]
          },
          "metadata": {},
          "execution_count": 4
        }
      ]
    },
    {
      "cell_type": "code",
      "source": [
        "# Can also mix object types\n",
        "another_tuple = ('one', 2, 4.53,'asbc')"
      ],
      "metadata": {
        "id": "Z2Sdsu8Er52m"
      },
      "execution_count": 5,
      "outputs": []
    },
    {
      "cell_type": "code",
      "source": [
        "# show\n",
        "another_tuple"
      ],
      "metadata": {
        "colab": {
          "base_uri": "https://localhost:8080/"
        },
        "id": "3hRBrNH_sKVz",
        "outputId": "8e038819-d53c-42b2-f571-3baa7fe77b3f"
      },
      "execution_count": 6,
      "outputs": [
        {
          "output_type": "execute_result",
          "data": {
            "text/plain": [
              "('one', 2, 4.53, 'asbc')"
            ]
          },
          "metadata": {},
          "execution_count": 6
        }
      ]
    },
    {
      "cell_type": "code",
      "source": [
        "my_list = [1]\n",
        "\n",
        "type(my_list)"
      ],
      "metadata": {
        "colab": {
          "base_uri": "https://localhost:8080/"
        },
        "id": "VW734nDQsPjx",
        "outputId": "6da48e55-51bc-4aac-b63c-7d8f967bacfa"
      },
      "execution_count": 7,
      "outputs": [
        {
          "output_type": "execute_result",
          "data": {
            "text/plain": [
              "list"
            ]
          },
          "metadata": {},
          "execution_count": 7
        }
      ]
    },
    {
      "cell_type": "code",
      "source": [
        "my_tuple = (1,)\n",
        "\n",
        "type(my_tuple)"
      ],
      "metadata": {
        "colab": {
          "base_uri": "https://localhost:8080/"
        },
        "id": "MpDULEPEsYGR",
        "outputId": "b2aa0357-09e0-4ede-cc76-ed5b85d586cc"
      },
      "execution_count": 8,
      "outputs": [
        {
          "output_type": "execute_result",
          "data": {
            "text/plain": [
              "tuple"
            ]
          },
          "metadata": {},
          "execution_count": 8
        }
      ]
    },
    {
      "cell_type": "code",
      "source": [
        "my_tuple = (1,2,3,4)\n",
        "\n",
        "len(my_tuple)"
      ],
      "metadata": {
        "colab": {
          "base_uri": "https://localhost:8080/"
        },
        "id": "1ZZZ-J0Askl4",
        "outputId": "e9b1bcee-d4cc-46c7-fb1f-487d898e9f59"
      },
      "execution_count": 9,
      "outputs": [
        {
          "output_type": "execute_result",
          "data": {
            "text/plain": [
              "4"
            ]
          },
          "metadata": {},
          "execution_count": 9
        }
      ]
    },
    {
      "cell_type": "code",
      "source": [
        "print(another_tuple)"
      ],
      "metadata": {
        "colab": {
          "base_uri": "https://localhost:8080/"
        },
        "id": "HWn1-zIrssWN",
        "outputId": "6e738c61-fa4e-4d50-86d3-172af2efb4e6"
      },
      "execution_count": 10,
      "outputs": [
        {
          "output_type": "stream",
          "name": "stdout",
          "text": [
            "('one', 2, 4.53, 'asbc')\n"
          ]
        }
      ]
    },
    {
      "cell_type": "code",
      "source": [
        "#Grab the element at index 0 , which is the FIRST element\n",
        "another_tuple[0]"
      ],
      "metadata": {
        "colab": {
          "base_uri": "https://localhost:8080/",
          "height": 36
        },
        "id": "-2mASTBwsxs-",
        "outputId": "033974a3-ef1e-40f2-97ed-d3a7a05ec7ed"
      },
      "execution_count": 11,
      "outputs": [
        {
          "output_type": "execute_result",
          "data": {
            "text/plain": [
              "'one'"
            ],
            "application/vnd.google.colaboratory.intrinsic+json": {
              "type": "string"
            }
          },
          "metadata": {},
          "execution_count": 11
        }
      ]
    },
    {
      "cell_type": "code",
      "source": [
        "# Grab the element at the index -1, which is the LAST element\n",
        "another_tuple[-1]"
      ],
      "metadata": {
        "colab": {
          "base_uri": "https://localhost:8080/",
          "height": 36
        },
        "id": "3HyNae-zs_U6",
        "outputId": "b81bb8b8-651f-4544-8ab4-5558eced23c8"
      },
      "execution_count": 12,
      "outputs": [
        {
          "output_type": "execute_result",
          "data": {
            "text/plain": [
              "'asbc'"
            ],
            "application/vnd.google.colaboratory.intrinsic+json": {
              "type": "string"
            }
          },
          "metadata": {},
          "execution_count": 12
        }
      ]
    },
    {
      "cell_type": "code",
      "source": [
        "# Grab the element at the index -3, which is the THIRD last element\n",
        "another_tuple[-3]"
      ],
      "metadata": {
        "colab": {
          "base_uri": "https://localhost:8080/"
        },
        "id": "2buJZthptPNS",
        "outputId": "293498ee-b605-4f44-d6af-c5bc13cd3c8d"
      },
      "execution_count": 13,
      "outputs": [
        {
          "output_type": "execute_result",
          "data": {
            "text/plain": [
              "2"
            ]
          },
          "metadata": {},
          "execution_count": 13
        }
      ]
    },
    {
      "cell_type": "code",
      "source": [
        "# print our list\n",
        "print(another_tuple)"
      ],
      "metadata": {
        "colab": {
          "base_uri": "https://localhost:8080/"
        },
        "id": "NifkzCcRtcuH",
        "outputId": "3e3410fe-98bf-403f-9df2-35d465615f42"
      },
      "execution_count": 14,
      "outputs": [
        {
          "output_type": "stream",
          "name": "stdout",
          "text": [
            "('one', 2, 4.53, 'asbc')\n"
          ]
        }
      ]
    },
    {
      "cell_type": "code",
      "source": [
        "# Grab the elements starting from index 1 and everything past it\n",
        "another_tuple [1:3]"
      ],
      "metadata": {
        "colab": {
          "base_uri": "https://localhost:8080/"
        },
        "id": "kvp-jgv0tjzo",
        "outputId": "0192c4ae-f0fb-4ab5-d41b-bae1166467a8"
      },
      "execution_count": 15,
      "outputs": [
        {
          "output_type": "execute_result",
          "data": {
            "text/plain": [
              "(2, 4.53)"
            ]
          },
          "metadata": {},
          "execution_count": 15
        }
      ]
    },
    {
      "cell_type": "code",
      "source": [
        "# Grab everything starting from index 2\n",
        "another_tuple[:6]"
      ],
      "metadata": {
        "colab": {
          "base_uri": "https://localhost:8080/"
        },
        "id": "-HSgmMXBtxRD",
        "outputId": "f0cd7fee-a1c4-4381-f393-5bd865d39e08"
      },
      "execution_count": 16,
      "outputs": [
        {
          "output_type": "execute_result",
          "data": {
            "text/plain": [
              "('one', 2, 4.53, 'asbc')"
            ]
          },
          "metadata": {},
          "execution_count": 16
        }
      ]
    },
    {
      "cell_type": "code",
      "source": [
        "# Grab everything before the index 4\n",
        "another_tuple[:6]"
      ],
      "metadata": {
        "colab": {
          "base_uri": "https://localhost:8080/"
        },
        "id": "0zNQMbKNt93p",
        "outputId": "f7bbc0ba-f9ec-44b9-e1c6-60d5badaf0c7"
      },
      "execution_count": 17,
      "outputs": [
        {
          "output_type": "execute_result",
          "data": {
            "text/plain": [
              "('one', 2, 4.53, 'asbc')"
            ]
          },
          "metadata": {},
          "execution_count": 17
        }
      ]
    },
    {
      "cell_type": "code",
      "source": [
        "# Grab everything\n",
        "another_tuple"
      ],
      "metadata": {
        "colab": {
          "base_uri": "https://localhost:8080/"
        },
        "id": "XhevsmyCuHen",
        "outputId": "1736f5ed-736e-4675-a8f9-f569e6f3ba32"
      },
      "execution_count": 18,
      "outputs": [
        {
          "output_type": "execute_result",
          "data": {
            "text/plain": [
              "('one', 2, 4.53, 'asbc')"
            ]
          },
          "metadata": {},
          "execution_count": 18
        }
      ]
    },
    {
      "cell_type": "code",
      "source": [
        "# Grab the LAST FOUR elements of the list\n",
        "another_tuple[-4:]"
      ],
      "metadata": {
        "colab": {
          "base_uri": "https://localhost:8080/"
        },
        "id": "GCS-ZiE9uOXq",
        "outputId": "b02959f3-a2e4-4985-8df7-d13f5ed05689"
      },
      "execution_count": 19,
      "outputs": [
        {
          "output_type": "execute_result",
          "data": {
            "text/plain": [
              "('one', 2, 4.53, 'asbc')"
            ]
          },
          "metadata": {},
          "execution_count": 19
        }
      ]
    },
    {
      "cell_type": "code",
      "source": [
        "# Check len just like a list\n",
        "len(another_tuple)"
      ],
      "metadata": {
        "colab": {
          "base_uri": "https://localhost:8080/"
        },
        "id": "pjbxaimxua0h",
        "outputId": "bfd454a1-ba52-4d86-bd04-c50908d412b3"
      },
      "execution_count": 20,
      "outputs": [
        {
          "output_type": "execute_result",
          "data": {
            "text/plain": [
              "4"
            ]
          },
          "metadata": {},
          "execution_count": 20
        }
      ]
    },
    {
      "cell_type": "code",
      "source": [
        "random_tuple = (1,5,6,2)\n",
        "\n",
        "sorted(random_tuple)"
      ],
      "metadata": {
        "colab": {
          "base_uri": "https://localhost:8080/"
        },
        "id": "yedI0hXfukPG",
        "outputId": "393842c4-1ef6-4242-dc80-6ffe2efe027e"
      },
      "execution_count": 21,
      "outputs": [
        {
          "output_type": "execute_result",
          "data": {
            "text/plain": [
              "[1, 2, 5, 6]"
            ]
          },
          "metadata": {},
          "execution_count": 21
        }
      ]
    },
    {
      "cell_type": "code",
      "source": [
        "my_tuple = (1,2,3,4,5,6,1,1,2)\n",
        "\n",
        "# Use .index to enter a value and return the index\n",
        "my_tuple.index(2)"
      ],
      "metadata": {
        "colab": {
          "base_uri": "https://localhost:8080/"
        },
        "id": "NB0Ul4B_uwX9",
        "outputId": "3d9a40d9-3641-4c6d-f57f-1539de585782"
      },
      "execution_count": 22,
      "outputs": [
        {
          "output_type": "execute_result",
          "data": {
            "text/plain": [
              "1"
            ]
          },
          "metadata": {},
          "execution_count": 22
        }
      ]
    },
    {
      "cell_type": "code",
      "source": [
        "# Use .count to count the number of times a value appears\n",
        "my_tuple.count(2)"
      ],
      "metadata": {
        "colab": {
          "base_uri": "https://localhost:8080/"
        },
        "id": "rYqxQjHnvFiU",
        "outputId": "dea05b24-b972-47f3-decd-57eaaa17c52b"
      },
      "execution_count": 23,
      "outputs": [
        {
          "output_type": "execute_result",
          "data": {
            "text/plain": [
              "2"
            ]
          },
          "metadata": {},
          "execution_count": 23
        }
      ]
    },
    {
      "cell_type": "code",
      "source": [
        "my_tuple.count(1)"
      ],
      "metadata": {
        "colab": {
          "base_uri": "https://localhost:8080/"
        },
        "id": "FdfH5GPFvTpr",
        "outputId": "10943c98-98cd-4a18-e57c-9ca39954001e"
      },
      "execution_count": 24,
      "outputs": [
        {
          "output_type": "execute_result",
          "data": {
            "text/plain": [
              "3"
            ]
          },
          "metadata": {},
          "execution_count": 24
        }
      ]
    },
    {
      "cell_type": "code",
      "source": [
        "print(my_tuple)"
      ],
      "metadata": {
        "colab": {
          "base_uri": "https://localhost:8080/"
        },
        "id": "HcOjAzQMvqbB",
        "outputId": "904eaaa5-6e0c-44ce-b939-80999ebd9421"
      },
      "execution_count": 27,
      "outputs": [
        {
          "output_type": "stream",
          "name": "stdout",
          "text": [
            "(1, 2, 3, 4, 5, 6, 1, 1, 2)\n"
          ]
        }
      ]
    },
    {
      "cell_type": "code",
      "source": [
        "my_tuple[0]"
      ],
      "metadata": {
        "colab": {
          "base_uri": "https://localhost:8080/"
        },
        "id": "JT2U8m0EvvLZ",
        "outputId": "03f57582-88dc-4659-f48d-bc570ff19a8f"
      },
      "execution_count": 28,
      "outputs": [
        {
          "output_type": "execute_result",
          "data": {
            "text/plain": [
              "1"
            ]
          },
          "metadata": {},
          "execution_count": 28
        }
      ]
    },
    {
      "cell_type": "code",
      "source": [
        "# Create a list\n",
        "my_list = [5,7,9,3,2]"
      ],
      "metadata": {
        "id": "flehe-f7v9fC"
      },
      "execution_count": 30,
      "outputs": []
    },
    {
      "cell_type": "code",
      "source": [
        "# Our modified list\n",
        "my_list"
      ],
      "metadata": {
        "colab": {
          "base_uri": "https://localhost:8080/"
        },
        "id": "aUgFDWg4wYto",
        "outputId": "14ed948c-159e-4c9c-fb49-0f39d4a18d2a"
      },
      "execution_count": 32,
      "outputs": [
        {
          "output_type": "execute_result",
          "data": {
            "text/plain": [
              "[5, 7, 9, 3, 2]"
            ]
          },
          "metadata": {},
          "execution_count": 32
        }
      ]
    },
    {
      "cell_type": "code",
      "source": [
        "# Create an empty set\n",
        "empty_set = set()\n",
        "\n",
        "type(empty_set)"
      ],
      "metadata": {
        "colab": {
          "base_uri": "https://localhost:8080/"
        },
        "id": "P_8f5KShwhFF",
        "outputId": "7cde35c0-e7fa-498e-8408-4237d864c584"
      },
      "execution_count": 33,
      "outputs": [
        {
          "output_type": "execute_result",
          "data": {
            "text/plain": [
              "set"
            ]
          },
          "metadata": {},
          "execution_count": 33
        }
      ]
    },
    {
      "cell_type": "code",
      "source": [
        "# Create a non-empty set within curly braces\n",
        "non_empty_set = {1,6,4,'a,b,c'}\n",
        "\n",
        "type(non_empty_set)"
      ],
      "metadata": {
        "colab": {
          "base_uri": "https://localhost:8080/"
        },
        "id": "2aPSgvY6x8iU",
        "outputId": "8cd5792c-41e8-4354-a176-ab47de3a96b8"
      },
      "execution_count": 34,
      "outputs": [
        {
          "output_type": "execute_result",
          "data": {
            "text/plain": [
              "set"
            ]
          },
          "metadata": {},
          "execution_count": 34
        }
      ]
    },
    {
      "cell_type": "code",
      "source": [
        "my_object = {}\n",
        "\n",
        "type(my_object)"
      ],
      "metadata": {
        "colab": {
          "base_uri": "https://localhost:8080/"
        },
        "id": "EwYUZfaOyTuS",
        "outputId": "d0d37068-356b-498f-8831-f210398d58ee"
      },
      "execution_count": 35,
      "outputs": [
        {
          "output_type": "execute_result",
          "data": {
            "text/plain": [
              "dict"
            ]
          },
          "metadata": {},
          "execution_count": 35
        }
      ]
    },
    {
      "cell_type": "code",
      "source": [
        "my_set = set()\n",
        "\n",
        "type(my_set)\n",
        "\n"
      ],
      "metadata": {
        "colab": {
          "base_uri": "https://localhost:8080/"
        },
        "id": "Wp8gCRNvycu8",
        "outputId": "033e09ed-6c5f-4b7f-bb19-b462da0c7796"
      },
      "execution_count": 36,
      "outputs": [
        {
          "output_type": "execute_result",
          "data": {
            "text/plain": [
              "set"
            ]
          },
          "metadata": {},
          "execution_count": 36
        }
      ]
    },
    {
      "cell_type": "code",
      "source": [
        "# Create a list with repeats\n",
        "my_list = [1,1,2,2,3,4,5,6,1,1,]"
      ],
      "metadata": {
        "id": "aW8RA1jMynpd"
      },
      "execution_count": 37,
      "outputs": []
    },
    {
      "cell_type": "code",
      "source": [
        "# Cast as set to get inique values\n",
        "my_set = set(my_list)"
      ],
      "metadata": {
        "id": "FOiBK_Y3y58S"
      },
      "execution_count": 39,
      "outputs": []
    },
    {
      "cell_type": "code",
      "source": [
        "my_set"
      ],
      "metadata": {
        "colab": {
          "base_uri": "https://localhost:8080/"
        },
        "id": "dVcSAtwpzELL",
        "outputId": "04a1541f-0a6e-4754-adec-9c339dbe9917"
      },
      "execution_count": 40,
      "outputs": [
        {
          "output_type": "execute_result",
          "data": {
            "text/plain": [
              "{1, 2, 3, 4, 5, 6}"
            ]
          },
          "metadata": {},
          "execution_count": 40
        }
      ]
    },
    {
      "cell_type": "code",
      "source": [
        "# A set cannot have mutable items\n",
        "my_set = {1,2,(3,4)}"
      ],
      "metadata": {
        "id": "r7j8Hui7zHTx"
      },
      "execution_count": 41,
      "outputs": []
    },
    {
      "cell_type": "code",
      "source": [
        "# But we can have tuples as set elements, they are immutable\n",
        "my_set = {1,2,(2,3)}\n",
        "\n",
        "my_set"
      ],
      "metadata": {
        "colab": {
          "base_uri": "https://localhost:8080/"
        },
        "id": "GBPWxH4V0dOE",
        "outputId": "1a167bba-8366-4ae3-e80b-19453c844e20"
      },
      "execution_count": 42,
      "outputs": [
        {
          "output_type": "execute_result",
          "data": {
            "text/plain": [
              "{(2, 3), 1, 2}"
            ]
          },
          "metadata": {},
          "execution_count": 42
        }
      ]
    },
    {
      "cell_type": "code",
      "source": [
        "# We add to sets with the add() method\n",
        "my_set = set()\n",
        "my_set.add ('a')"
      ],
      "metadata": {
        "id": "cqkhFA800343"
      },
      "execution_count": 43,
      "outputs": []
    },
    {
      "cell_type": "code",
      "source": [
        "# Show\n",
        "my_set"
      ],
      "metadata": {
        "colab": {
          "base_uri": "https://localhost:8080/"
        },
        "id": "OR2thydh1Hqh",
        "outputId": "560cfdba-06ad-4812-fb5d-ac668c5218aa"
      },
      "execution_count": 44,
      "outputs": [
        {
          "output_type": "execute_result",
          "data": {
            "text/plain": [
              "{'a'}"
            ]
          },
          "metadata": {},
          "execution_count": 44
        }
      ]
    },
    {
      "cell_type": "code",
      "source": [
        "# Add a different element\n",
        "my_set.add(2)"
      ],
      "metadata": {
        "id": "P7Dn45CD1M-e"
      },
      "execution_count": 45,
      "outputs": []
    },
    {
      "cell_type": "code",
      "source": [
        "# Show\n",
        "print(my_set)"
      ],
      "metadata": {
        "colab": {
          "base_uri": "https://localhost:8080/"
        },
        "id": "hcIQ0sOT1Uce",
        "outputId": "e1e1bb5c-67e8-4a64-d3ec-5ee7b7e15626"
      },
      "execution_count": 46,
      "outputs": [
        {
          "output_type": "stream",
          "name": "stdout",
          "text": [
            "{2, 'a'}\n"
          ]
        }
      ]
    },
    {
      "cell_type": "code",
      "source": [
        "my_set = {5,7,9,3}\n",
        "\n",
        "\n",
        "# add multiple elements my_set.update([2,3,4])\n",
        "print(my_set)"
      ],
      "metadata": {
        "colab": {
          "base_uri": "https://localhost:8080/"
        },
        "id": "VWSQgVtA20AN",
        "outputId": "c7f7b9e9-8bdc-496f-c3b6-e09237f6bde2"
      },
      "execution_count": 51,
      "outputs": [
        {
          "output_type": "stream",
          "name": "stdout",
          "text": [
            "{9, 3, 5, 7}\n"
          ]
        }
      ]
    },
    {
      "cell_type": "code",
      "source": [
        "non_empty_set = {1,5,6,73,2}\n",
        "\n",
        "non_empty_set.remove(5)\n",
        "\n",
        "non_empty_set"
      ],
      "metadata": {
        "colab": {
          "base_uri": "https://localhost:8080/"
        },
        "id": "oB1PPOHb3ODc",
        "outputId": "750049f4-7b49-44ed-ce30-06c5fa23bb58"
      },
      "execution_count": 52,
      "outputs": [
        {
          "output_type": "execute_result",
          "data": {
            "text/plain": [
              "{1, 2, 6, 73}"
            ]
          },
          "metadata": {},
          "execution_count": 52
        }
      ]
    },
    {
      "cell_type": "code",
      "source": [
        "# Initialize sets A and B\n",
        "A = {1,2,3,4,5}\n",
        "B = {4,5,6,7,8}\n",
        "\n",
        "A.union(B)"
      ],
      "metadata": {
        "colab": {
          "base_uri": "https://localhost:8080/"
        },
        "id": "xjw7MMyD3fTo",
        "outputId": "e3a78e81-92fa-4985-b39a-0e9da1e80fa7"
      },
      "execution_count": 53,
      "outputs": [
        {
          "output_type": "execute_result",
          "data": {
            "text/plain": [
              "{1, 2, 3, 4, 5, 6, 7, 8}"
            ]
          },
          "metadata": {},
          "execution_count": 53
        }
      ]
    },
    {
      "cell_type": "code",
      "source": [
        "A"
      ],
      "metadata": {
        "colab": {
          "base_uri": "https://localhost:8080/"
        },
        "id": "PUaQB73i30Pn",
        "outputId": "623406a2-56e3-4687-8a32-607766b23152"
      },
      "execution_count": 54,
      "outputs": [
        {
          "output_type": "execute_result",
          "data": {
            "text/plain": [
              "{1, 2, 3, 4, 5}"
            ]
          },
          "metadata": {},
          "execution_count": 54
        }
      ]
    },
    {
      "cell_type": "code",
      "source": [
        "# Also denoted by the operator |\n",
        "A | B"
      ],
      "metadata": {
        "colab": {
          "base_uri": "https://localhost:8080/"
        },
        "id": "qkVIii9432wb",
        "outputId": "fda7777d-84d3-43c6-86a8-90d6a62093bc"
      },
      "execution_count": 55,
      "outputs": [
        {
          "output_type": "execute_result",
          "data": {
            "text/plain": [
              "{1, 2, 3, 4, 5, 6, 7, 8}"
            ]
          },
          "metadata": {},
          "execution_count": 55
        }
      ]
    },
    {
      "cell_type": "code",
      "source": [
        "A = {1,2,3,4,5}\n",
        "B = {4,5,6,7,8}\n",
        "\n",
        "A .intersection(B)"
      ],
      "metadata": {
        "colab": {
          "base_uri": "https://localhost:8080/"
        },
        "id": "iBaBamRG4AZV",
        "outputId": "f130e3d3-79f1-47ec-a824-0705527bd080"
      },
      "execution_count": 57,
      "outputs": [
        {
          "output_type": "execute_result",
          "data": {
            "text/plain": [
              "{4, 5}"
            ]
          },
          "metadata": {},
          "execution_count": 57
        }
      ]
    },
    {
      "cell_type": "code",
      "source": [
        "# Also denoted by the operator &\n",
        "A & B"
      ],
      "metadata": {
        "colab": {
          "base_uri": "https://localhost:8080/"
        },
        "id": "0K6NvdOO4apw",
        "outputId": "bb0f1489-21b4-4488-9812-52166334dbdc"
      },
      "execution_count": 58,
      "outputs": [
        {
          "output_type": "execute_result",
          "data": {
            "text/plain": [
              "{4, 5}"
            ]
          },
          "metadata": {},
          "execution_count": 58
        }
      ]
    },
    {
      "cell_type": "code",
      "source": [
        "A = {1,2,3,4,5}\n",
        "B = {4,5,6,7,8}\n",
        "\n",
        "A .difference(B)"
      ],
      "metadata": {
        "colab": {
          "base_uri": "https://localhost:8080/"
        },
        "id": "CRGzxaj74q8m",
        "outputId": "a0ab78e8-51e2-41cc-bf78-aa7051ecbc06"
      },
      "execution_count": 59,
      "outputs": [
        {
          "output_type": "execute_result",
          "data": {
            "text/plain": [
              "{1, 2, 3}"
            ]
          },
          "metadata": {},
          "execution_count": 59
        }
      ]
    },
    {
      "cell_type": "code",
      "source": [
        "# Also denoted by the operator -\n",
        "A - B"
      ],
      "metadata": {
        "colab": {
          "base_uri": "https://localhost:8080/"
        },
        "id": "zoqSdoei47f_",
        "outputId": "61651a92-ccee-4be6-cc28-5110bf34fff6"
      },
      "execution_count": 60,
      "outputs": [
        {
          "output_type": "execute_result",
          "data": {
            "text/plain": [
              "{1, 2, 3}"
            ]
          },
          "metadata": {},
          "execution_count": 60
        }
      ]
    },
    {
      "cell_type": "code",
      "source": [
        "B .difference(A)"
      ],
      "metadata": {
        "colab": {
          "base_uri": "https://localhost:8080/"
        },
        "id": "oP2yKIrF5FfP",
        "outputId": "161ca257-d775-44e7-adf6-796243f31d63"
      },
      "execution_count": 61,
      "outputs": [
        {
          "output_type": "execute_result",
          "data": {
            "text/plain": [
              "{6, 7, 8}"
            ]
          },
          "metadata": {},
          "execution_count": 61
        }
      ]
    },
    {
      "cell_type": "code",
      "source": [
        "B - A"
      ],
      "metadata": {
        "colab": {
          "base_uri": "https://localhost:8080/"
        },
        "id": "CiQrlIGp5KO6",
        "outputId": "9d569361-403a-4027-a213-966297861202"
      },
      "execution_count": 62,
      "outputs": [
        {
          "output_type": "execute_result",
          "data": {
            "text/plain": [
              "{6, 7, 8}"
            ]
          },
          "metadata": {},
          "execution_count": 62
        }
      ]
    },
    {
      "cell_type": "code",
      "source": [
        "A = {1,2,3,4,5}\n",
        "B = {4,5,6,7,8}\n",
        "\n",
        "A .symmetric_difference (B)"
      ],
      "metadata": {
        "colab": {
          "base_uri": "https://localhost:8080/"
        },
        "id": "Me8Ti2Cf5S0f",
        "outputId": "e073a830-5f91-44df-b765-449de1527eda"
      },
      "execution_count": 63,
      "outputs": [
        {
          "output_type": "execute_result",
          "data": {
            "text/plain": [
              "{1, 2, 3, 6, 7, 8}"
            ]
          },
          "metadata": {},
          "execution_count": 63
        }
      ]
    },
    {
      "cell_type": "code",
      "source": [
        "A ^ B"
      ],
      "metadata": {
        "colab": {
          "base_uri": "https://localhost:8080/"
        },
        "id": "F6LXbma95vws",
        "outputId": "144f8d98-78d5-49a0-dee1-1ec296a9600a"
      },
      "execution_count": 64,
      "outputs": [
        {
          "output_type": "execute_result",
          "data": {
            "text/plain": [
              "{1, 2, 3, 6, 7, 8}"
            ]
          },
          "metadata": {},
          "execution_count": 64
        }
      ]
    },
    {
      "cell_type": "code",
      "source": [
        "# Make a dictionary with {} and : to signify a key and a value\n",
        "marvel_dict = { 'Name':'Thor', 'Place': 'Asgard', 'Weapon': 'Hammer', 1:2, 3 : 'power' , 'alibies' : ['Ironmman', 'Captain America'], 'abc' : {1:2}}\n"
      ],
      "metadata": {
        "id": "70qNaxQK9iy8"
      },
      "execution_count": 69,
      "outputs": []
    },
    {
      "cell_type": "code",
      "source": [
        "# Call values by their key\n",
        "marvel_dict['Place']\n"
      ],
      "metadata": {
        "colab": {
          "base_uri": "https://localhost:8080/",
          "height": 36
        },
        "id": "p9aD7J1mAKVH",
        "outputId": "2e907208-5b43-4df0-ed6d-a83914559203"
      },
      "execution_count": 70,
      "outputs": [
        {
          "output_type": "execute_result",
          "data": {
            "text/plain": [
              "'Asgard'"
            ],
            "application/vnd.google.colaboratory.intrinsic+json": {
              "type": "string"
            }
          },
          "metadata": {},
          "execution_count": 70
        }
      ]
    },
    {
      "cell_type": "code",
      "source": [
        "type(marvel_dict)"
      ],
      "metadata": {
        "colab": {
          "base_uri": "https://localhost:8080/"
        },
        "id": "rft3rRbpAYBO",
        "outputId": "4bc89ae1-0703-47e5-800b-4302b21da1c7"
      },
      "execution_count": 71,
      "outputs": [
        {
          "output_type": "execute_result",
          "data": {
            "text/plain": [
              "dict"
            ]
          },
          "metadata": {},
          "execution_count": 71
        }
      ]
    },
    {
      "cell_type": "code",
      "source": [
        "marvel_dict['Name']"
      ],
      "metadata": {
        "colab": {
          "base_uri": "https://localhost:8080/",
          "height": 36
        },
        "id": "TVmc8yVwAdEP",
        "outputId": "53c04939-360d-4198-aa01-e8938b027f1d"
      },
      "execution_count": 72,
      "outputs": [
        {
          "output_type": "execute_result",
          "data": {
            "text/plain": [
              "'Thor'"
            ],
            "application/vnd.google.colaboratory.intrinsic+json": {
              "type": "string"
            }
          },
          "metadata": {},
          "execution_count": 72
        }
      ]
    },
    {
      "cell_type": "code",
      "source": [
        "marvel_dict['Weapon']\n"
      ],
      "metadata": {
        "colab": {
          "base_uri": "https://localhost:8080/",
          "height": 36
        },
        "id": "HQbYh0UdAiLI",
        "outputId": "5517c671-e74e-4c40-c4d5-0aa76312f97f"
      },
      "execution_count": 73,
      "outputs": [
        {
          "output_type": "execute_result",
          "data": {
            "text/plain": [
              "'Hammer'"
            ],
            "application/vnd.google.colaboratory.intrinsic+json": {
              "type": "string"
            }
          },
          "metadata": {},
          "execution_count": 73
        }
      ]
    },
    {
      "cell_type": "code",
      "source": [
        "marvel_dict['alibies']\n"
      ],
      "metadata": {
        "colab": {
          "base_uri": "https://localhost:8080/"
        },
        "id": "vBlis6_XAoXY",
        "outputId": "4a2eb302-ac7f-492c-fac5-cb3e58caaa9b"
      },
      "execution_count": 74,
      "outputs": [
        {
          "output_type": "execute_result",
          "data": {
            "text/plain": [
              "['Ironmman', 'Captain America']"
            ]
          },
          "metadata": {},
          "execution_count": 74
        }
      ]
    },
    {
      "cell_type": "code",
      "source": [
        "type(marvel_dict['abc'])"
      ],
      "metadata": {
        "colab": {
          "base_uri": "https://localhost:8080/"
        },
        "id": "uvxvuOu_AxIP",
        "outputId": "e4e19fcd-3f67-454b-b296-ad90fce217f0"
      },
      "execution_count": 75,
      "outputs": [
        {
          "output_type": "execute_result",
          "data": {
            "text/plain": [
              "dict"
            ]
          },
          "metadata": {},
          "execution_count": 75
        }
      ]
    },
    {
      "cell_type": "code",
      "source": [
        "marvel_dict.keys()\n"
      ],
      "metadata": {
        "colab": {
          "base_uri": "https://localhost:8080/"
        },
        "id": "mpX27v04A6oS",
        "outputId": "39c658cb-f747-4582-d905-8a4ef56da481"
      },
      "execution_count": 76,
      "outputs": [
        {
          "output_type": "execute_result",
          "data": {
            "text/plain": [
              "dict_keys(['Name', 'Place', 'Weapon', 1, 3, 'alibies', 'abc'])"
            ]
          },
          "metadata": {},
          "execution_count": 76
        }
      ]
    },
    {
      "cell_type": "code",
      "source": [
        "list(marvel_dict.keys())\n"
      ],
      "metadata": {
        "colab": {
          "base_uri": "https://localhost:8080/"
        },
        "id": "ML9PZrK-BFJr",
        "outputId": "cec40df9-b618-4d77-a8a6-732b8932655b"
      },
      "execution_count": 77,
      "outputs": [
        {
          "output_type": "execute_result",
          "data": {
            "text/plain": [
              "['Name', 'Place', 'Weapon', 1, 3, 'alibies', 'abc']"
            ]
          },
          "metadata": {},
          "execution_count": 77
        }
      ]
    },
    {
      "cell_type": "code",
      "source": [
        "print(marvel_dict)"
      ],
      "metadata": {
        "colab": {
          "base_uri": "https://localhost:8080/"
        },
        "id": "SkeLjGy7BMut",
        "outputId": "2a3ceaf2-2a8e-4576-d9ce-07dabcd0c01d"
      },
      "execution_count": 78,
      "outputs": [
        {
          "output_type": "stream",
          "name": "stdout",
          "text": [
            "{'Name': 'Thor', 'Place': 'Asgard', 'Weapon': 'Hammer', 1: 2, 3: 'power', 'alibies': ['Ironmman', 'Captain America'], 'abc': {1: 2}}\n"
          ]
        }
      ]
    },
    {
      "cell_type": "code",
      "source": [
        "list(marvel_dict. values ())"
      ],
      "metadata": {
        "colab": {
          "base_uri": "https://localhost:8080/"
        },
        "id": "8GXlkKJTBRWz",
        "outputId": "2a619776-d816-4fb6-9546-59eca0f0edd9"
      },
      "execution_count": 79,
      "outputs": [
        {
          "output_type": "execute_result",
          "data": {
            "text/plain": [
              "['Thor',\n",
              " 'Asgard',\n",
              " 'Hammer',\n",
              " 2,\n",
              " 'power',\n",
              " ['Ironmman', 'Captain America'],\n",
              " {1: 2}]"
            ]
          },
          "metadata": {},
          "execution_count": 79
        }
      ]
    },
    {
      "cell_type": "code",
      "source": [
        "# Get the keys and their corresponding values\n",
        "list(marvel_dict.items())"
      ],
      "metadata": {
        "colab": {
          "base_uri": "https://localhost:8080/"
        },
        "id": "lqWmcIb-BbNL",
        "outputId": "47fa61b6-903d-41f6-94ae-1cf00cacc170"
      },
      "execution_count": 83,
      "outputs": [
        {
          "output_type": "execute_result",
          "data": {
            "text/plain": [
              "[('Name', 'Thor'),\n",
              " ('Place', 'Asgard'),\n",
              " ('Weapon', 'Hammer'),\n",
              " (1, 2),\n",
              " (3, 'power'),\n",
              " ('alibies', ['Ironmman', 'Captain America']),\n",
              " ('abc', {1: 2})]"
            ]
          },
          "metadata": {},
          "execution_count": 83
        }
      ]
    },
    {
      "cell_type": "code",
      "source": [
        "marvel_dict.get('place')"
      ],
      "metadata": {
        "id": "coZJy_UdCLi4"
      },
      "execution_count": 84,
      "outputs": []
    },
    {
      "cell_type": "code",
      "source": [
        "marvel_dict.get('Place')"
      ],
      "metadata": {
        "colab": {
          "base_uri": "https://localhost:8080/",
          "height": 36
        },
        "id": "No1jj7shCSsD",
        "outputId": "50fb4531-7080-43d4-a4ce-d214e1af838e"
      },
      "execution_count": 85,
      "outputs": [
        {
          "output_type": "execute_result",
          "data": {
            "text/plain": [
              "'Asgard'"
            ],
            "application/vnd.google.colaboratory.intrinsic+json": {
              "type": "string"
            }
          },
          "metadata": {},
          "execution_count": 85
        }
      ]
    },
    {
      "cell_type": "code",
      "source": [
        "marvel_dict.get('Random')\n",
        "\n",
        "marvel_dict.get('Random','Not Found')"
      ],
      "metadata": {
        "colab": {
          "base_uri": "https://localhost:8080/",
          "height": 36
        },
        "id": "DU3GOjotCZdy",
        "outputId": "71229f18-b459-4200-8e16-0d2d088e5de9"
      },
      "execution_count": 86,
      "outputs": [
        {
          "output_type": "execute_result",
          "data": {
            "text/plain": [
              "'Not Found'"
            ],
            "application/vnd.google.colaboratory.intrinsic+json": {
              "type": "string"
            }
          },
          "metadata": {},
          "execution_count": 86
        }
      ]
    },
    {
      "cell_type": "code",
      "source": [
        "employee_dict = {'Name': 'Sanket', 'Skills':['Python','Machine Learning', 'Deep Learning'], 'Band':6.0,'Promotion Year':[2016,2018,2020]}\n",
        "\n",
        "len(employee_dict.keys())"
      ],
      "metadata": {
        "colab": {
          "base_uri": "https://localhost:8080/"
        },
        "id": "wP4P7veFCtSx",
        "outputId": "d1c23a88-4cf7-4bb3-c25e-3e8f9ceee348"
      },
      "execution_count": 87,
      "outputs": [
        {
          "output_type": "execute_result",
          "data": {
            "text/plain": [
              "4"
            ]
          },
          "metadata": {},
          "execution_count": 87
        }
      ]
    },
    {
      "cell_type": "code",
      "source": [
        "# Let's call items from the dictionary\n",
        "employee_dict['Skills']"
      ],
      "metadata": {
        "colab": {
          "base_uri": "https://localhost:8080/"
        },
        "id": "bD41BKjdD1RH",
        "outputId": "39c7ff4b-bac7-4529-f5f6-a937b8e97057"
      },
      "execution_count": 88,
      "outputs": [
        {
          "output_type": "execute_result",
          "data": {
            "text/plain": [
              "['Python', 'Machine Learning', 'Deep Learning']"
            ]
          },
          "metadata": {},
          "execution_count": 88
        }
      ]
    },
    {
      "cell_type": "code",
      "source": [
        "# Can call an index on that value\n",
        "employee_dict['Skills'] [0]"
      ],
      "metadata": {
        "colab": {
          "base_uri": "https://localhost:8080/",
          "height": 36
        },
        "id": "nPdCTqu0ECLE",
        "outputId": "279ab7c7-da72-42d0-f9e0-05805c7ba27e"
      },
      "execution_count": 89,
      "outputs": [
        {
          "output_type": "execute_result",
          "data": {
            "text/plain": [
              "'Python'"
            ],
            "application/vnd.google.colaboratory.intrinsic+json": {
              "type": "string"
            }
          },
          "metadata": {},
          "execution_count": 89
        }
      ]
    },
    {
      "cell_type": "code",
      "source": [
        "# Can then even call methodson that value\n",
        "employee_dict['Skills'] [0].upper()"
      ],
      "metadata": {
        "colab": {
          "base_uri": "https://localhost:8080/",
          "height": 36
        },
        "id": "De0WP-gqESvu",
        "outputId": "782bd996-ecdd-4db2-a2e2-55230509c86c"
      },
      "execution_count": 90,
      "outputs": [
        {
          "output_type": "execute_result",
          "data": {
            "text/plain": [
              "'PYTHON'"
            ],
            "application/vnd.google.colaboratory.intrinsic+json": {
              "type": "string"
            }
          },
          "metadata": {},
          "execution_count": 90
        }
      ]
    },
    {
      "cell_type": "code",
      "source": [
        "# Add a new key\n",
        "\n",
        "employee_dict['Designation'] = 'Senior Data Scientist'\n",
        "\n",
        "employee_dict"
      ],
      "metadata": {
        "colab": {
          "base_uri": "https://localhost:8080/"
        },
        "id": "F3y0KMixEora",
        "outputId": "97fee93c-c33c-4279-f468-1e1bbdbafa28"
      },
      "execution_count": 91,
      "outputs": [
        {
          "output_type": "execute_result",
          "data": {
            "text/plain": [
              "{'Name': 'Sanket',\n",
              " 'Skills': ['Python', 'Machine Learning', 'Deep Learning'],\n",
              " 'Band': 6.0,\n",
              " 'Promotion Year': [2016, 2018, 2020],\n",
              " 'Designation': 'Senior Data Scientist'}"
            ]
          },
          "metadata": {},
          "execution_count": 91
        }
      ]
    },
    {
      "cell_type": "code",
      "source": [
        "employee_dict.update({'Salary':'2,000,000'})\n",
        "\n",
        "employee_dict"
      ],
      "metadata": {
        "colab": {
          "base_uri": "https://localhost:8080/"
        },
        "id": "Pfxk_8RjE-sk",
        "outputId": "158bfa54-560d-495e-e217-f8e2362d9c6f"
      },
      "execution_count": 92,
      "outputs": [
        {
          "output_type": "execute_result",
          "data": {
            "text/plain": [
              "{'Name': 'Sanket',\n",
              " 'Skills': ['Python', 'Machine Learning', 'Deep Learning'],\n",
              " 'Band': 6.0,\n",
              " 'Promotion Year': [2016, 2018, 2020],\n",
              " 'Designation': 'Senior Data Scientist',\n",
              " 'Salary': '2,000,000'}"
            ]
          },
          "metadata": {},
          "execution_count": 92
        }
      ]
    },
    {
      "cell_type": "code",
      "source": [
        "employee_dict['Name']"
      ],
      "metadata": {
        "colab": {
          "base_uri": "https://localhost:8080/",
          "height": 36
        },
        "id": "00uu6nB2FSjn",
        "outputId": "09c7b15a-0657-4528-90bf-0148b5368252"
      },
      "execution_count": 93,
      "outputs": [
        {
          "output_type": "execute_result",
          "data": {
            "text/plain": [
              "'Sanket'"
            ],
            "application/vnd.google.colaboratory.intrinsic+json": {
              "type": "string"
            }
          },
          "metadata": {},
          "execution_count": 93
        }
      ]
    },
    {
      "cell_type": "code",
      "source": [
        "# Substract 123 from the value\n",
        "employee_dict['Name'] = employee_dict['Name'] + ' ' + 'Raj'\n",
        "\n",
        "# Check\n",
        "employee_dict"
      ],
      "metadata": {
        "colab": {
          "base_uri": "https://localhost:8080/"
        },
        "id": "ohDjZhdtFXRv",
        "outputId": "369bb59e-45d3-4185-dc10-77f1c0d04be9"
      },
      "execution_count": 94,
      "outputs": [
        {
          "output_type": "execute_result",
          "data": {
            "text/plain": [
              "{'Name': 'Sanket Raj',\n",
              " 'Skills': ['Python', 'Machine Learning', 'Deep Learning'],\n",
              " 'Band': 6.0,\n",
              " 'Promotion Year': [2016, 2018, 2020],\n",
              " 'Designation': 'Senior Data Scientist',\n",
              " 'Salary': '2,000,000'}"
            ]
          },
          "metadata": {},
          "execution_count": 94
        }
      ]
    },
    {
      "cell_type": "code",
      "source": [
        "country_list = ['India', 'Australia','United States','England']\n",
        "city_list = ['New Delhi', 'Canberra','washinton DC','London']\n",
        "\n",
        "country_city_list = list(zip(country_list,city_list))\n",
        "\n",
        "country_city_list"
      ],
      "metadata": {
        "colab": {
          "base_uri": "https://localhost:8080/"
        },
        "id": "XiB7-ZM0Fv_7",
        "outputId": "2f9b0057-eb90-4b36-f62f-3d72cb011878"
      },
      "execution_count": 95,
      "outputs": [
        {
          "output_type": "execute_result",
          "data": {
            "text/plain": [
              "[('India', 'New Delhi'),\n",
              " ('Australia', 'Canberra'),\n",
              " ('United States', 'washinton DC'),\n",
              " ('England', 'London')]"
            ]
          },
          "metadata": {},
          "execution_count": 95
        }
      ]
    },
    {
      "cell_type": "code",
      "source": [
        "dict(country_city_list)"
      ],
      "metadata": {
        "colab": {
          "base_uri": "https://localhost:8080/"
        },
        "id": "AALzXqmeG8gm",
        "outputId": "b9b8a02a-0d78-45be-9e17-8bb2dcb73f20"
      },
      "execution_count": 96,
      "outputs": [
        {
          "output_type": "execute_result",
          "data": {
            "text/plain": [
              "{'India': 'New Delhi',\n",
              " 'Australia': 'Canberra',\n",
              " 'United States': 'washinton DC',\n",
              " 'England': 'London'}"
            ]
          },
          "metadata": {},
          "execution_count": 96
        }
      ]
    },
    {
      "cell_type": "code",
      "source": [
        "# Let us create a list of paired tuples\n",
        "country_city_tuples = [('India','New Delhi'),('Australia','Canberra'),('United States','Washington DC'),('England','London')]\n",
        "\n",
        "country_city_dict = dict(country_city_tuples)\n",
        "\n",
        "country_city_dict"
      ],
      "metadata": {
        "colab": {
          "base_uri": "https://localhost:8080/"
        },
        "id": "wfKDBN3iHDT_",
        "outputId": "7776d95d-349d-40d5-d9f5-291d207cea1d"
      },
      "execution_count": 98,
      "outputs": [
        {
          "output_type": "execute_result",
          "data": {
            "text/plain": [
              "{'India': 'New Delhi',\n",
              " 'Australia': 'Canberra',\n",
              " 'United States': 'Washington DC',\n",
              " 'England': 'London'}"
            ]
          },
          "metadata": {},
          "execution_count": 98
        }
      ]
    },
    {
      "cell_type": "code",
      "source": [
        "country_city_dict.pop('England')"
      ],
      "metadata": {
        "colab": {
          "base_uri": "https://localhost:8080/",
          "height": 36
        },
        "id": "QNmO8o0OIXBv",
        "outputId": "0410a734-9f35-4ddd-8126-b294ebcd906b"
      },
      "execution_count": 99,
      "outputs": [
        {
          "output_type": "execute_result",
          "data": {
            "text/plain": [
              "'London'"
            ],
            "application/vnd.google.colaboratory.intrinsic+json": {
              "type": "string"
            }
          },
          "metadata": {},
          "execution_count": 99
        }
      ]
    },
    {
      "cell_type": "code",
      "source": [
        "country_city_dict"
      ],
      "metadata": {
        "colab": {
          "base_uri": "https://localhost:8080/"
        },
        "id": "0zr6DpeHIhLc",
        "outputId": "5970c33e-1dcb-4b17-ff0a-b1bd85954856"
      },
      "execution_count": 100,
      "outputs": [
        {
          "output_type": "execute_result",
          "data": {
            "text/plain": [
              "{'India': 'New Delhi',\n",
              " 'Australia': 'Canberra',\n",
              " 'United States': 'Washington DC'}"
            ]
          },
          "metadata": {},
          "execution_count": 100
        }
      ]
    },
    {
      "cell_type": "code",
      "source": [
        "country_city_dict"
      ],
      "metadata": {
        "colab": {
          "base_uri": "https://localhost:8080/"
        },
        "id": "Ul7bprBSJmF_",
        "outputId": "3ccbc9cb-ca68-4394-fe40-ca6b97492d01"
      },
      "execution_count": 104,
      "outputs": [
        {
          "output_type": "execute_result",
          "data": {
            "text/plain": [
              "{'India': 'New Delhi',\n",
              " 'Australia': 'Canberra',\n",
              " 'United States': 'Washington DC'}"
            ]
          },
          "metadata": {},
          "execution_count": 104
        }
      ]
    },
    {
      "cell_type": "code",
      "source": [
        "name = [\"Manjeet\",\"Nikhil\",\"Shambhavi\"]\n",
        "marks = [40,50,60]\n",
        "\n",
        "mapped = zip(name,marks)\n",
        "\n",
        "mapped"
      ],
      "metadata": {
        "colab": {
          "base_uri": "https://localhost:8080/"
        },
        "id": "NE55mPbOJvXk",
        "outputId": "018fea65-cdae-44b3-a56d-9ca58845bdf8"
      },
      "execution_count": 105,
      "outputs": [
        {
          "output_type": "execute_result",
          "data": {
            "text/plain": [
              "<zip at 0x793cde6d3d40>"
            ]
          },
          "metadata": {},
          "execution_count": 105
        }
      ]
    },
    {
      "cell_type": "code",
      "source": [
        "print(dict(mapped))"
      ],
      "metadata": {
        "colab": {
          "base_uri": "https://localhost:8080/"
        },
        "id": "fIqp11IkKOLD",
        "outputId": "2937d50e-8e96-4b94-f6de-202e2a8ea72a"
      },
      "execution_count": 106,
      "outputs": [
        {
          "output_type": "stream",
          "name": "stdout",
          "text": [
            "{'Manjeet': 40, 'Nikhil': 50, 'Shambhavi': 60}\n"
          ]
        }
      ]
    },
    {
      "cell_type": "code",
      "source": [
        "name = [\"Manjeet\",\"Nikhil\",\"Shambhavi\"]\n",
        "marks = [40,50,60,80]\n",
        "\n",
        "mapped = zip(name, marks)\n",
        "\n",
        "print(dict(mapped))"
      ],
      "metadata": {
        "colab": {
          "base_uri": "https://localhost:8080/"
        },
        "id": "ivDT3UMiKXFE",
        "outputId": "80abf972-120f-4bca-947d-8eba90a5d6d6"
      },
      "execution_count": 107,
      "outputs": [
        {
          "output_type": "stream",
          "name": "stdout",
          "text": [
            "{'Manjeet': 40, 'Nikhil': 50, 'Shambhavi': 60}\n"
          ]
        }
      ]
    }
  ]
}