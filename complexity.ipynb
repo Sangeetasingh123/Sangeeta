{
  "nbformat": 4,
  "nbformat_minor": 0,
  "metadata": {
    "colab": {
      "provenance": [],
      "authorship_tag": "ABX9TyMnY8uO7QryuvPgVq0NaXnV",
      "include_colab_link": true
    },
    "kernelspec": {
      "name": "python3",
      "display_name": "Python 3"
    },
    "language_info": {
      "name": "python"
    }
  },
  "cells": [
    {
      "cell_type": "markdown",
      "metadata": {
        "id": "view-in-github",
        "colab_type": "text"
      },
      "source": [
        "<a href=\"https://colab.research.google.com/github/Sangeetasingh123/Sangeeta/blob/main/complexity.ipynb\" target=\"_parent\"><img src=\"https://colab.research.google.com/assets/colab-badge.svg\" alt=\"Open In Colab\"/></a>"
      ]
    },
    {
      "cell_type": "code",
      "execution_count": null,
      "metadata": {
        "colab": {
          "base_uri": "https://localhost:8080/"
        },
        "id": "6B7QJJWh2m7-",
        "outputId": "a1095117-9194-44f0-c45b-24538320f933"
      },
      "outputs": [
        {
          "output_type": "stream",
          "name": "stdout",
          "text": [
            "Match found at index: 5\n",
            "0\n"
          ]
        }
      ],
      "source": [
        "integer_to_match = 13\n",
        "list_to_search = [1 , 3, 5, 8, 12, 13, 15, 16, 18, 20, 22, 30, 40, 50, 55, 67]\n",
        "\n",
        "\n",
        "c=0\n",
        "for i in range (len(list_to_search)):\n",
        "  if integer_to_match==list_to_search[i]:\n",
        "    print(\"Match found at index:\", i)\n",
        "    break\n",
        "  c+1\n",
        "print(c)"
      ]
    },
    {
      "cell_type": "code",
      "source": [
        "list_to_search.index(integer_to_match)"
      ],
      "metadata": {
        "colab": {
          "base_uri": "https://localhost:8080/"
        },
        "id": "k5Pw3f4E4Nhr",
        "outputId": "42aba929-f135-40c1-cbb9-cce22bc93d53"
      },
      "execution_count": null,
      "outputs": [
        {
          "output_type": "execute_result",
          "data": {
            "text/plain": [
              "5"
            ]
          },
          "metadata": {},
          "execution_count": 2
        }
      ]
    },
    {
      "cell_type": "code",
      "source": [
        "list_to_search.sort()\n",
        "print(list_to_search)\n",
        "l=0\n",
        "r=len(list_to_search)-1\n",
        "c=0\n",
        "while l<r:\n",
        "  m=(l+r)//2\n",
        "  if list_to_search[m]==integer_to_match:\n",
        "    break\n",
        "\n",
        "  elif list_to_search[m]<integer_to_match:\n",
        "    l=m+1\n",
        "  else:\n",
        "    r=m-1\n",
        "c+=1\n",
        "print(c)\n",
        "\n",
        "while l<r:\n",
        "  m=(1+r)//2\n",
        "  if list_to_search[m]==integer_to_match:\n",
        "    break\n",
        "list_to_search.sort()\n",
        "print(list_to_search)\n",
        "l=0\n",
        "r=len(list_to_search)-1\n",
        "c=0\n",
        "while l<r:\n",
        "  m=(l+r)//2\n",
        "  if list_to_search[m]==integer_to_match:\n",
        "    break\n",
        "\n",
        "  elif list_to_search[m]<integer_to_match:\n",
        "    l=m+1\n",
        "  else:\n",
        "    r=m-1\n",
        "c+=1\n",
        "print(c)\n",
        "\n",
        "while l<r:\n",
        "  m=(1+r)//2\n",
        "  if list_to_search[m]==integer_to_match:\n",
        "    break\n",
        "\n",
        "  elif list_to_search[m]<integer_to_match:\n",
        "    l=m+1 #changed 1 to l\n",
        "  else:\n",
        "    r=m-1\n",
        "c+=1\n",
        "print(c)\n",
        "c+=1\n",
        "print(c)\n",
        "\n"
      ],
      "metadata": {
        "colab": {
          "base_uri": "https://localhost:8080/"
        },
        "id": "riXHFFLt4iww",
        "outputId": "25ad7c99-163b-4542-bb00-3390ec351c71"
      },
      "execution_count": null,
      "outputs": [
        {
          "metadata": {
            "tags": null
          },
          "name": "stdout",
          "output_type": "stream",
          "text": [
            "[1, 3, 5, 8, 12, 13, 15, 16, 18, 20, 22, 30, 40, 50, 55, 67]\n",
            "1\n"
          ]
        }
      ]
    },
    {
      "cell_type": "code",
      "source": [
        "def binary_search(arr, low, high, x):\n",
        "    c=0\n",
        "    # Check base case\n",
        "    if high >= low:\n",
        "\n",
        "        mid = (high + low) // 2\n",
        "\n",
        "        # If element is present at the middle itsellf\n",
        "        if arr[mid] == x:\n",
        "            return mid\n",
        "\n",
        "        # If element is smaller than mid, then it can only\n",
        "        # be present in left subarray\n",
        "        elif arr[mid] >x:\n",
        "            return binary_search(arr, low, mid - 1, x)\n",
        "\n",
        "        # Else the element can only be present in right subarray\n",
        "        else:\n",
        "             return binary_search(arr, mid + 1, high, x)\n",
        "\n",
        "      else:\n",
        "        # Element is not present in the array\n",
        "        return -1\n",
        "\n",
        "        # Test array\n",
        "        integer_to_match = 13\n",
        "        list_to_search = [1, 3, 5, 8, 12, 13, 15, 16, 18, 20, 22, 30, 40, 50, 55, 67]\n",
        "\n",
        "        # Function call\n",
        "        result = binary_search(list_to_search, 0, len(list_to_search)-1, integer_to_match)\n",
        "\n",
        "        print(\"Match found at index\", str(result))\n",
        "\n",
        "\n"
      ],
      "metadata": {
        "id": "4QilqK2V8lpR"
      },
      "execution_count": null,
      "outputs": []
    },
    {
      "cell_type": "code",
      "source": [
        "print(list_to_search[5]==integer_to_match)"
      ],
      "metadata": {
        "id": "NPDw3qFsEDOa"
      },
      "execution_count": null,
      "outputs": []
    },
    {
      "cell_type": "code",
      "source": [
        "list_to_sum = [1, 2, 3, 4, 5, 6, 7]\n",
        "\n",
        "\n",
        "sum = 0\n",
        "for i in range(len(list_to_sum)):\n",
        "  sum = sum + list_to_sum[i]\n",
        "\n",
        "sum"
      ],
      "metadata": {
        "id": "7Lp_4c9SMiMv"
      },
      "execution_count": null,
      "outputs": []
    },
    {
      "cell_type": "code",
      "source": [
        "sum = []\n",
        "c=0\n",
        "for i in range(len(list_to_sum)):\n",
        "  if i==0:\n",
        "    sum.append(list_to_sum[i])\n",
        "  else:\n",
        "    sum.append(sum[-1] + list_to_sum[i])\n",
        "  c+=1\n",
        "print(c)"
      ],
      "metadata": {
        "id": "GTLb3M4tQ8dP"
      },
      "execution_count": null,
      "outputs": []
    },
    {
      "cell_type": "code",
      "source": [
        "sum"
      ],
      "metadata": {
        "id": "wNwrVBo4TMJ1"
      },
      "execution_count": null,
      "outputs": []
    },
    {
      "cell_type": "code",
      "source": [
        "sum[-1]"
      ],
      "metadata": {
        "id": "66hvUksdUGLB"
      },
      "execution_count": null,
      "outputs": []
    },
    {
      "cell_type": "code",
      "source": [
        "# Approach 1\n",
        "\n",
        "A = [1,11,4,9,16,2,23,45,77,15]\n",
        "B = [51,29,82,32,67,5,2,22,78,98]\n",
        "areas = []\n",
        "c=0\n",
        "for a in A:\n",
        "  for b in B:\n",
        "    areas.append(a * b)\n",
        "    c+=1\n",
        "\n",
        "d=c\n",
        "print(d)"
      ],
      "metadata": {
        "id": "0PlKPFI_UImT"
      },
      "execution_count": null,
      "outputs": []
    },
    {
      "cell_type": "code",
      "source": [
        "max_area = 0\n",
        "for area in areas:\n",
        "  if area>max_area:\n",
        "    max_area=area\n",
        "  d=d+1\n",
        "print(d)"
      ],
      "metadata": {
        "id": "sysXWevgVXvg"
      },
      "execution_count": null,
      "outputs": []
    },
    {
      "cell_type": "code",
      "source": [
        "max_area = 0\n",
        "for area in areas:\n",
        "  if area>max_area:\n",
        "    max_area=area\n",
        "  d=d+1\n",
        "print(d)"
      ],
      "metadata": {
        "id": "HtCbqOC7WRmf"
      },
      "execution_count": null,
      "outputs": []
    },
    {
      "cell_type": "code",
      "source": [
        "len(areas)"
      ],
      "metadata": {
        "id": "Fex_IIJpWku2"
      },
      "execution_count": null,
      "outputs": []
    },
    {
      "cell_type": "code",
      "source": [
        "max_area"
      ],
      "metadata": {
        "id": "HXn-PwxsWod5"
      },
      "execution_count": null,
      "outputs": []
    },
    {
      "cell_type": "code",
      "source": [
        "max(areas)"
      ],
      "metadata": {
        "id": "u0IjjsLBWr99"
      },
      "execution_count": null,
      "outputs": []
    },
    {
      "cell_type": "code",
      "source": [
        "# Approach 2\n",
        "\n",
        "A = [1,11,4,9,16,2,23,45,77,15]\n",
        "B = [51,29,82,32,67,5,2,22,78,98]\n",
        "e=0\n",
        "max_a = 0\n",
        "for a in A:\n",
        "  if a>max_a:\n",
        "    max_a=a\n",
        "  e+=1\n",
        "\n",
        " max_b = 0\n",
        " for b in B:\n",
        "  if b>max_b:\n",
        "    max_b=b\n",
        "  e+=1\n",
        "\n",
        "print(e)"
      ],
      "metadata": {
        "id": "rICR_vPmWvKn"
      },
      "execution_count": null,
      "outputs": []
    },
    {
      "cell_type": "code",
      "source": [
        "max_a * max_b"
      ],
      "metadata": {
        "id": "ANc8NT1DYDw_"
      },
      "execution_count": null,
      "outputs": []
    }
  ]
}