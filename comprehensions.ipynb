{
  "nbformat": 4,
  "nbformat_minor": 0,
  "metadata": {
    "colab": {
      "provenance": [],
      "authorship_tag": "ABX9TyM6oVzxJI8LRI6zYZYX8Nkk",
      "include_colab_link": true
    },
    "kernelspec": {
      "name": "python3",
      "display_name": "Python 3"
    },
    "language_info": {
      "name": "python"
    }
  },
  "cells": [
    {
      "cell_type": "markdown",
      "metadata": {
        "id": "view-in-github",
        "colab_type": "text"
      },
      "source": [
        "<a href=\"https://colab.research.google.com/github/Sangeetasingh123/Sangeeta/blob/main/comprehensions.ipynb\" target=\"_parent\"><img src=\"https://colab.research.google.com/assets/colab-badge.svg\" alt=\"Open In Colab\"/></a>"
      ]
    },
    {
      "cell_type": "code",
      "source": [
        "# The list of numbers\n",
        "list_of_numbers = [1,2,4,6,11,14,17,20]"
      ],
      "metadata": {
        "id": "meGfvFcWeR9p"
      },
      "execution_count": null,
      "outputs": []
    },
    {
      "cell_type": "code",
      "source": [
        "# Let us first initialize a list where we will be appending the squares in each iteration\n",
        "\n",
        "squared_numbers = []\n",
        "\n",
        "for number in list_of_numbers:\n",
        "  # Use the append method to add the numbers one by one to our list\n",
        "  squared_numbers.append(number**2)\n",
        "  # print(squared_numbers)\n",
        "\n",
        "print(f\"The list of squared numbers is {squared_numbers}\")"
      ],
      "metadata": {
        "colab": {
          "base_uri": "https://localhost:8080/"
        },
        "id": "QvsVgsOzetCk",
        "outputId": "1034095c-3fcf-496c-cc8d-b3dbcc61d8ab"
      },
      "execution_count": null,
      "outputs": [
        {
          "output_type": "stream",
          "name": "stdout",
          "text": [
            "The list of squared numbers is [1, 4, 16, 36, 121, 196, 289, 400]\n"
          ]
        }
      ]
    },
    {
      "cell_type": "code",
      "source": [
        "# Getting the list of squares using list comprehension\n",
        "squared_numbers = [number**2 for number in list_of_numbers]\n",
        "print(squared_numbers)"
      ],
      "metadata": {
        "colab": {
          "base_uri": "https://localhost:8080/"
        },
        "id": "sgL8ULrOf68L",
        "outputId": "e8fc49b3-a208-4246-ab9e-90739a9c9b63"
      },
      "execution_count": null,
      "outputs": [
        {
          "output_type": "stream",
          "name": "stdout",
          "text": [
            "[1, 4, 16, 36, 121, 196, 289, 400]\n"
          ]
        }
      ]
    },
    {
      "cell_type": "code",
      "source": [
        "print(list_of_numbers)"
      ],
      "metadata": {
        "colab": {
          "base_uri": "https://localhost:8080/"
        },
        "id": "I7u1j4cAg_aY",
        "outputId": "e7db2f1b-67eb-4c8f-d969-eb600e7cf2da"
      },
      "execution_count": null,
      "outputs": [
        {
          "output_type": "stream",
          "name": "stdout",
          "text": [
            "[1, 2, 4, 6, 11, 14, 17, 20]\n"
          ]
        }
      ]
    },
    {
      "cell_type": "code",
      "source": [
        "# Writing list comprehension using conditionals\n",
        "even_squared_numbers = [number**2 for number in list_of_numbers if number%2==0]\n",
        "print(even_squared_numbers)"
      ],
      "metadata": {
        "colab": {
          "base_uri": "https://localhost:8080/"
        },
        "id": "r2aKKJGNhEWI",
        "outputId": "6c499477-ae19-4516-adeb-d2dd9c3e7418"
      },
      "execution_count": null,
      "outputs": [
        {
          "output_type": "stream",
          "name": "stdout",
          "text": [
            "[4, 16, 36, 196, 400]\n"
          ]
        }
      ]
    },
    {
      "cell_type": "code",
      "source": [
        "list(range(4))"
      ],
      "metadata": {
        "colab": {
          "base_uri": "https://localhost:8080/"
        },
        "id": "Or9DozCBehCx",
        "outputId": "255bc81e-8aaa-4522-bc4b-1c6b94329d87"
      },
      "execution_count": null,
      "outputs": [
        {
          "output_type": "execute_result",
          "data": {
            "text/plain": [
              "[0, 1, 2, 3]"
            ]
          },
          "metadata": {},
          "execution_count": 5
        }
      ]
    },
    {
      "cell_type": "code",
      "source": [
        "list_of_numbers = []\n",
        "\n",
        "for num1 in range(4):\n",
        "  for num2 in range(3):\n",
        "    # print(num1,num2)\n",
        "    list_of_numbers.append(num2)\n",
        "\n",
        "  print(list_of_numbers)\n"
      ],
      "metadata": {
        "colab": {
          "base_uri": "https://localhost:8080/"
        },
        "id": "idBLz4Y1esqP",
        "outputId": "1de82a67-c390-4f57-ef44-2ad3798492f4"
      },
      "execution_count": null,
      "outputs": [
        {
          "output_type": "stream",
          "name": "stdout",
          "text": [
            "[0, 1, 2]\n",
            "[0, 1, 2, 0, 1, 2]\n",
            "[0, 1, 2, 0, 1, 2, 0, 1, 2]\n",
            "[0, 1, 2, 0, 1, 2, 0, 1, 2, 0, 1, 2]\n"
          ]
        }
      ]
    },
    {
      "cell_type": "code",
      "source": [
        "# We can write it in a slightly different way\n",
        "list_of_numbers = [num2 for num1 in range(4) for num2 in range(3)]\n",
        "print(list_of_numbers)"
      ],
      "metadata": {
        "colab": {
          "base_uri": "https://localhost:8080/"
        },
        "id": "54-QoOzIfURv",
        "outputId": "fa69150b-3778-449d-8926-4996a68e1857"
      },
      "execution_count": null,
      "outputs": [
        {
          "output_type": "stream",
          "name": "stdout",
          "text": [
            "[0, 1, 2, 0, 1, 2, 0, 1, 2, 0, 1, 2]\n"
          ]
        }
      ]
    },
    {
      "cell_type": "code",
      "source": [
        "list_of_numbers = [num2**2 for num2 in range(3) for num1 in range(4)]\n",
        "print(list_of_numbers)"
      ],
      "metadata": {
        "colab": {
          "base_uri": "https://localhost:8080/"
        },
        "id": "hHwk8auugOUq",
        "outputId": "ebace5d3-2bfb-4806-86f6-f1afdc7a1ef9"
      },
      "execution_count": null,
      "outputs": [
        {
          "output_type": "stream",
          "name": "stdout",
          "text": [
            "[0, 0, 0, 0, 1, 1, 1, 1, 4, 4, 4, 4]\n"
          ]
        }
      ]
    },
    {
      "cell_type": "code",
      "source": [
        "sample = [ [] ]\n",
        "len(sample)\n",
        "\n",
        "sample[0]"
      ],
      "metadata": {
        "colab": {
          "base_uri": "https://localhost:8080/"
        },
        "id": "tbRvbWw_gzTu",
        "outputId": "626ff463-48e3-40fb-8d3f-a9093752834e"
      },
      "execution_count": null,
      "outputs": [
        {
          "output_type": "execute_result",
          "data": {
            "text/plain": [
              "[]"
            ]
          },
          "metadata": {},
          "execution_count": 9
        }
      ]
    },
    {
      "cell_type": "code",
      "source": [
        "list_of_lists = []\n",
        "for num1 in range(4):\n",
        "  # Append an empty sublist inside the list\n",
        "  list_of_lists.append([]) # [[0]] , list_of_lists[1]\n",
        "  # print(list_of_lists)\n",
        "\n",
        "  for num2 in range(3):\n",
        "    # Append the elements within the sublist\n",
        "    list_of_lists[num1].append(num2) #list_of_lists[0]\n",
        "\n",
        "  print(list_of_lists)"
      ],
      "metadata": {
        "colab": {
          "base_uri": "https://localhost:8080/"
        },
        "id": "j73U2v2PhEeU",
        "outputId": "e6006dfa-9cb8-4248-a17e-d023cda3361c"
      },
      "execution_count": null,
      "outputs": [
        {
          "output_type": "stream",
          "name": "stdout",
          "text": [
            "[[0, 1, 2]]\n",
            "[[0, 1, 2], [0, 1, 2]]\n",
            "[[0, 1, 2], [0, 1, 2], [0, 1, 2]]\n",
            "[[0, 1, 2], [0, 1, 2], [0, 1, 2], [0, 1, 2]]\n"
          ]
        }
      ]
    },
    {
      "cell_type": "code",
      "source": [
        "# Using the list comprehension we can write the same thing\n",
        "list_of_lists = [[num2 for num2 in range(3)] for num1 in range(4)]\n",
        "print(list_of_lists)"
      ],
      "metadata": {
        "colab": {
          "base_uri": "https://localhost:8080/"
        },
        "id": "jQKmu43tifzY",
        "outputId": "6fdb8b3e-655c-471d-afe3-6f21a62006ba"
      },
      "execution_count": null,
      "outputs": [
        {
          "output_type": "stream",
          "name": "stdout",
          "text": [
            "[[0, 1, 2], [0, 1, 2], [0, 1, 2], [0, 1, 2]]\n"
          ]
        }
      ]
    },
    {
      "cell_type": "code",
      "source": [
        "# Using the list comprehension we can write the same thing\n",
        "list_of_lists = [[num1 for num2 in range(3)] for num1 in range(4)]\n",
        "print(list_of_lists)"
      ],
      "metadata": {
        "colab": {
          "base_uri": "https://localhost:8080/"
        },
        "id": "4H6olbf4jZey",
        "outputId": "a0007758-40ba-40e1-f1e3-4e36bb5c71be"
      },
      "execution_count": null,
      "outputs": [
        {
          "output_type": "stream",
          "name": "stdout",
          "text": [
            "[[0, 0, 0], [1, 1, 1], [2, 2, 2], [3, 3, 3]]\n"
          ]
        }
      ]
    },
    {
      "cell_type": "code",
      "source": [
        "heisenberg_quote = \"It ceases to exist without me.No,you clearly don't know who you're talking to,so let me clue you in.I am not in danger\"\n",
        "\n",
        "\n",
        "words_by_walter = list(heisenberg_quote)\n",
        "print(words_by_walter)"
      ],
      "metadata": {
        "colab": {
          "base_uri": "https://localhost:8080/"
        },
        "id": "C03aylNAj1WS",
        "outputId": "31f86f24-c358-4fe9-8379-2e51053fcb2c"
      },
      "execution_count": null,
      "outputs": [
        {
          "output_type": "stream",
          "name": "stdout",
          "text": [
            "['I', 't', ' ', 'c', 'e', 'a', 's', 'e', 's', ' ', 't', 'o', ' ', 'e', 'x', 'i', 's', 't', ' ', 'w', 'i', 't', 'h', 'o', 'u', 't', ' ', 'm', 'e', '.', 'N', 'o', ',', 'y', 'o', 'u', ' ', 'c', 'l', 'e', 'a', 'r', 'l', 'y', ' ', 'd', 'o', 'n', \"'\", 't', ' ', 'k', 'n', 'o', 'w', ' ', 'w', 'h', 'o', ' ', 'y', 'o', 'u', \"'\", 'r', 'e', ' ', 't', 'a', 'l', 'k', 'i', 'n', 'g', ' ', 't', 'o', ',', 's', 'o', ' ', 'l', 'e', 't', ' ', 'm', 'e', ' ', 'c', 'l', 'u', 'e', ' ', 'y', 'o', 'u', ' ', 'i', 'n', '.', 'I', ' ', 'a', 'm', ' ', 'n', 'o', 't', ' ', 'i', 'n', ' ', 'd', 'a', 'n', 'g', 'e', 'r']\n"
          ]
        }
      ]
    },
    {
      "cell_type": "code",
      "source": [
        "heisenberg_quote.split('t')"
      ],
      "metadata": {
        "colab": {
          "base_uri": "https://localhost:8080/"
        },
        "id": "4qkhFGzZmEsX",
        "outputId": "4008cf0d-14b3-41fc-ec0d-2b8b21510034"
      },
      "execution_count": null,
      "outputs": [
        {
          "output_type": "execute_result",
          "data": {
            "text/plain": [
              "['I',\n",
              " ' ceases ',\n",
              " 'o exis',\n",
              " ' wi',\n",
              " 'hou',\n",
              " \" me.No,you clearly don'\",\n",
              " \" know who you're \",\n",
              " 'alking ',\n",
              " 'o,so le',\n",
              " ' me clue you in.I am no',\n",
              " ' in danger']"
            ]
          },
          "metadata": {},
          "execution_count": 15
        }
      ]
    },
    {
      "cell_type": "code",
      "source": [
        "# Let u store the first letter of each word in another list\n",
        "\n",
        "first_letters = []\n",
        "\n",
        "for word in words_by_walter:\n",
        "  first_letters.append(word[0])\n",
        "\n",
        "# print the first_letters list\n",
        "print(first_letters)"
      ],
      "metadata": {
        "colab": {
          "base_uri": "https://localhost:8080/"
        },
        "id": "idUiH03emR6q",
        "outputId": "ef90c89f-96d0-499e-ed86-186b6b8f9372"
      },
      "execution_count": null,
      "outputs": [
        {
          "output_type": "stream",
          "name": "stdout",
          "text": [
            "['I', 't', ' ', 'c', 'e', 'a', 's', 'e', 's', ' ', 't', 'o', ' ', 'e', 'x', 'i', 's', 't', ' ', 'w', 'i', 't', 'h', 'o', 'u', 't', ' ', 'm', 'e', '.', 'N', 'o', ',', 'y', 'o', 'u', ' ', 'c', 'l', 'e', 'a', 'r', 'l', 'y', ' ', 'd', 'o', 'n', \"'\", 't', ' ', 'k', 'n', 'o', 'w', ' ', 'w', 'h', 'o', ' ', 'y', 'o', 'u', \"'\", 'r', 'e', ' ', 't', 'a', 'l', 'k', 'i', 'n', 'g', ' ', 't', 'o', ',', 's', 'o', ' ', 'l', 'e', 't', ' ', 'm', 'e', ' ', 'c', 'l', 'u', 'e', ' ', 'y', 'o', 'u', ' ', 'i', 'n', '.', 'I', ' ', 'a', 'm', ' ', 'n', 'o', 't', ' ', 'i', 'n', ' ', 'd', 'a', 'n', 'g', 'e', 'r']\n"
          ]
        }
      ]
    },
    {
      "cell_type": "code",
      "source": [
        "# Suppose we have a tuple of days\n",
        "days = ('Monday','Tuesday','Wednesday','Thursday','Friday','Saturday','Sunday')\n",
        "\n",
        "tuple(day for day in days)"
      ],
      "metadata": {
        "colab": {
          "base_uri": "https://localhost:8080/"
        },
        "id": "hp1spLYz9ieO",
        "outputId": "bbe77c01-cf9f-4ad5-b880-e6252688cb17"
      },
      "execution_count": 6,
      "outputs": [
        {
          "output_type": "execute_result",
          "data": {
            "text/plain": [
              "('Monday', 'Tuesday', 'Wednesday', 'Thursday', 'Friday', 'Saturday', 'Sunday')"
            ]
          },
          "metadata": {},
          "execution_count": 6
        }
      ]
    },
    {
      "cell_type": "code",
      "source": [
        "# Let us create a tuple where we want to remove the word 'day' from each tuple element\n",
        "days_without_day = tuple([day[:-3]for day in days])\n",
        "print(days_without_day)"
      ],
      "metadata": {
        "colab": {
          "base_uri": "https://localhost:8080/"
        },
        "id": "Vm_LkEnB-KQy",
        "outputId": "b8368640-229a-43a6-b45d-b0f02db54082"
      },
      "execution_count": 7,
      "outputs": [
        {
          "output_type": "stream",
          "name": "stdout",
          "text": [
            "('Mon', 'Tues', 'Wednes', 'Thurs', 'Fri', 'Satur', 'Sun')\n"
          ]
        }
      ]
    },
    {
      "cell_type": "code",
      "source": [
        "country_city_list = [('India','New Delhi'),('Australia', 'Canberra'),('United,States','Washington DC'),('England','London')]\n",
        "\n",
        "# Lets convert the list of tuples to a dictionary\n",
        "country_city_dict = dict(country_city_list)\n",
        "print(country_city_dict)"
      ],
      "metadata": {
        "colab": {
          "base_uri": "https://localhost:8080/"
        },
        "id": "g5BX_HQABZ9m",
        "outputId": "9e6cddbd-5775-455d-9f51-2df0ed7713ae"
      },
      "execution_count": 16,
      "outputs": [
        {
          "output_type": "stream",
          "name": "stdout",
          "text": [
            "{'India': 'New Delhi', 'Australia': 'Canberra', 'United,States': 'Washington DC', 'England': 'London'}\n"
          ]
        }
      ]
    },
    {
      "cell_type": "code",
      "source": [
        "# The conventional for loop approach\n",
        "flipped = {}\n",
        "for country, city in country_city_dict.items():\n",
        "  flipped[city] = country\n",
        "\n",
        "print(flipped)"
      ],
      "metadata": {
        "colab": {
          "base_uri": "https://localhost:8080/"
        },
        "id": "KlwAelaJC0TL",
        "outputId": "e92ef9a0-172c-4dae-b8d2-853a6d12fe00"
      },
      "execution_count": 17,
      "outputs": [
        {
          "output_type": "stream",
          "name": "stdout",
          "text": [
            "{'New Delhi': 'India', 'Canberra': 'Australia', 'Washington DC': 'United,States', 'London': 'England'}\n"
          ]
        }
      ]
    },
    {
      "cell_type": "code",
      "source": [
        "# The new dictionary comprehension\n",
        "flipped = { city : country for country , city in country_city_dict.items() if country[0] in ['E','A']}\n",
        "print(flipped)"
      ],
      "metadata": {
        "colab": {
          "base_uri": "https://localhost:8080/"
        },
        "id": "GLI7sa8nDOC8",
        "outputId": "3560c959-e8c0-4701-820a-163d5f63fe0b"
      },
      "execution_count": 18,
      "outputs": [
        {
          "output_type": "stream",
          "name": "stdout",
          "text": [
            "{'Canberra': 'Australia', 'London': 'England'}\n"
          ]
        }
      ]
    },
    {
      "cell_type": "code",
      "source": [
        "# The new dictionary comprehension\n",
        "flipped = {country[:2]: city[-2:] for country, city in country_city_dict.items()}\n",
        "print(flipped)"
      ],
      "metadata": {
        "colab": {
          "base_uri": "https://localhost:8080/"
        },
        "id": "8yDCu-hCDzId",
        "outputId": "60541714-6a32-4fa4-dda7-2309c3861890"
      },
      "execution_count": 19,
      "outputs": [
        {
          "output_type": "stream",
          "name": "stdout",
          "text": [
            "{'In': 'hi', 'Au': 'ra', 'Un': 'DC', 'En': 'on'}\n"
          ]
        }
      ]
    },
    {
      "cell_type": "code",
      "source": [
        "print(country_city_dict)"
      ],
      "metadata": {
        "colab": {
          "base_uri": "https://localhost:8080/"
        },
        "id": "HjOth9j4EPFM",
        "outputId": "0064ce91-b543-47fe-908e-b21a64c40737"
      },
      "execution_count": 20,
      "outputs": [
        {
          "output_type": "stream",
          "name": "stdout",
          "text": [
            "{'India': 'New Delhi', 'Australia': 'Canberra', 'United,States': 'Washington DC', 'England': 'London'}\n"
          ]
        }
      ]
    }
  ]
}